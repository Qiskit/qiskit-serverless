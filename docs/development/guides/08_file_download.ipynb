{
 "cells": [
  {
   "cell_type": "markdown",
   "id": "aa077791-1bcf-43f6-ab2b-e04db48b9cb1",
   "metadata": {},
   "source": [
    "# File download (Experimental)\n",
    "\n",
    "In this tutorial we will describe a way to retrieve files produced by programs.\n",
    "\n",
    "This function provides a way to download files produced by programs during execution. All you need is to call `QuantumServerless.download` function and pass `tar` file name to start downloading the file. Or you can list all available file to you by calling `QuantumServerless.files`.\n",
    "\n",
    "> &#x26A0; This interface is experimental, therefore it is subjected to breaking changes.\n",
    "> \n",
    "> Limitations:\n",
    "> - only `tar` files are supported\n",
    "> - `tar` file should be saved in `/data` directory during your program execution to be visible by `.files()` method call\n",
    "> - only `/data` directory is supported, `/data/other_folder` will not be visible"
   ]
  },
  {
   "cell_type": "code",
   "execution_count": 13,
   "id": "93717e14-d06e-4e11-bd5b-6cdc3f1b1abd",
   "metadata": {},
   "outputs": [
    {
     "name": "stderr",
     "output_type": "stream",
     "text": [
      "Attempting to instrument while already instrumented\n"
     ]
    },
    {
     "data": {
      "text/plain": [
       "<QuantumServerless | providers [gateway-provider]>"
      ]
     },
     "execution_count": 13,
     "metadata": {},
     "output_type": "execute_result"
    }
   ],
   "source": [
    "import os\n",
    "from quantum_serverless import QuantumServerless, Provider, Program\n",
    "\n",
    "provider = Provider(\n",
    "    username=\"user\",\n",
    "    password=\"password123\",\n",
    "    host=os.environ.get(\"GATEWAY_HOST\", \"http://localhost:8000\"),\n",
    ")\n",
    "\n",
    "serverless = QuantumServerless(provider)\n",
    "serverless"
   ]
  },
  {
   "cell_type": "markdown",
   "id": "fc30a74a-2100-40b8-a283-30bd51875b45",
   "metadata": {},
   "source": [
    "Let's create a program to write `tar` file into `/data` folder"
   ]
  },
  {
   "cell_type": "code",
   "execution_count": 14,
   "id": "8d93f33b-f7f1-475d-b46e-1106cbe45cae",
   "metadata": {},
   "outputs": [
    {
     "data": {
      "text/plain": [
       "<Job | 99e8c764-cc5f-4305-9238-471e8024f188>"
      ]
     },
     "execution_count": 14,
     "metadata": {},
     "output_type": "execute_result"
    }
   ],
   "source": [
    "program = Program(\n",
    "    title=\"File producer\",\n",
    "    entrypoint=\"produce_files.py\",\n",
    "    working_dir=\"./src/\"\n",
    ")\n",
    "\n",
    "job = serverless.run(program)\n",
    "job"
   ]
  },
  {
   "cell_type": "code",
   "execution_count": 15,
   "id": "ecd0bb68-4d3c-450e-b363-a58fd91880b3",
   "metadata": {},
   "outputs": [
    {
     "data": {
      "text/plain": [
       "'{\"Message\": \"my_file.txt archived into my_file.tar\"}'"
      ]
     },
     "execution_count": 15,
     "metadata": {},
     "output_type": "execute_result"
    }
   ],
   "source": [
    "job.result()"
   ]
  },
  {
   "cell_type": "markdown",
   "id": "f0e57aa6-5573-4f07-9ac8-753cb7998091",
   "metadata": {},
   "source": [
    "Now we can look at files available using `files` method"
   ]
  },
  {
   "cell_type": "code",
   "execution_count": 16,
   "id": "08205fd4-b3d6-44d1-a33c-fb3918c26b12",
   "metadata": {},
   "outputs": [
    {
     "data": {
      "text/plain": [
       "['my_file.tar', 'awesome.tar']"
      ]
     },
     "execution_count": 16,
     "metadata": {},
     "output_type": "execute_result"
    }
   ],
   "source": [
    "available_files = serverless.files()\n",
    "available_files"
   ]
  },
  {
   "cell_type": "markdown",
   "id": "16c3d7a6-4cce-4ef0-a1f2-e8a6d7f2c531",
   "metadata": {},
   "source": [
    "And download them if needed using `download` method"
   ]
  },
  {
   "cell_type": "code",
   "execution_count": 17,
   "id": "39ca652d-77d7-49d2-97e9-42b60963a671",
   "metadata": {},
   "outputs": [
    {
     "name": "stderr",
     "output_type": "stream",
     "text": [
      "100%|███████████████████████████████████████████████████████████████████████████████████████████████████████████████████████████████████████████████████████████████████████████████████████████████████████████████████████████████████████████████████| 196/196 [00:00<00:00, 141kiB/s]\n"
     ]
    }
   ],
   "source": [
    "if len(available_files) > 0:\n",
    "    serverless.download(available_files[0])"
   ]
  }
 ],
 "metadata": {
  "kernelspec": {
   "display_name": "Python 3 (ipykernel)",
   "language": "python",
   "name": "python3"
  },
  "language_info": {
   "codemirror_mode": {
    "name": "ipython",
    "version": 3
   },
   "file_extension": ".py",
   "mimetype": "text/x-python",
   "name": "python",
   "nbconvert_exporter": "python",
   "pygments_lexer": "ipython3",
   "version": "3.9.16"
  }
 },
 "nbformat": 4,
 "nbformat_minor": 5
}
