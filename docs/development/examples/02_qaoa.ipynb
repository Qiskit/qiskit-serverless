{
 "cells": [
  {
   "cell_type": "markdown",
   "metadata": {},
   "source": [
    "# Example: QAOA program\n",
    "\n",
    "This tutorial will be demonstation of creating QAOA Program as well as migration guide on how you can replicate IBM Quantum QAOA custom runtime program.\n",
    "\n",
    "Let's first get information on what is QAOA runtime program and what inputs and outputs it has. We will not be implementing full set of input/outputs, but we will cover most important ones. Later on we can recover full functionality if needed.\n",
    "\n",
    "**Description**: Qiskit Runtime QAOA program.\n",
    "\n",
    "\n",
    "\n",
    "\n",
    "**Inputs**:\n",
    "\n",
    "| name | type | description |\n",
    "| ---- | ---- | ----------- |\n",
    "|initial_point|[array,string]|Initial parameters of the ansatz. Can be an array or the string ``'random'`` to choose random initial parameters. The type must be numpy.ndarray or str.|\n",
    "|operator|object|The cost Hamiltonian, consisting of Pauli I and Z operators, whose smallest eigenvalue we're trying to find. The type must be a PauliSumOp.|\n",
    "|optimization_level|integer|The optimization level to run if the swap strategies are not used. This value is 1 by default. This is an integer.|\n",
    "|optimizer|object|The classical optimizer used to update the parameters in each iteration. Per default, SPSA with automatic calibration of the learning rate is used. The type must be a qiskit.algorithms.optimizers.Optimizer.|\n",
    "|reps|integer|The number of QAOA repetitions, i.e. the QAOA depth typically labeled p. This value defaults to 1. This is an integer.|\n",
    "\n",
    "**Return values**\n",
    "\n",
    "| name | type | description |\n",
    "| ---- | ---- | ----------- |\n",
    "|cost_function_evals|number|The number of cost function (energy) evaluations. This is an integer.|\n",
    "|eigenstate|object|The square root of sampling probabilities for each computational basis state of the circuit with optimal parameters.|\n",
    "|eigenvalue|number|The estimated smallest eigenvalue.|\n",
    "|optimal_parameters|null|Not supported at the moment, therefore ``None``.|\n",
    "|optimal_point|array|The optimal parameter values found during the optimization.|\n",
    "|optimal_value|number|The smallest value found during the optimization. Equal to the ``eigenvalue`` attribute.|\n",
    "|optimizer_time|number|The total time taken by the optimizer.|\n",
    "\n",
    "\n",
    "We will also add optional `QiskitRuntimeService` as an argument to use that to access real devices.\n"
   ]
  },
  {
   "cell_type": "markdown",
   "metadata": {},
   "source": [
    "With that information we can start drafting our program implementation in `qaoa.py` file.\n",
    "\n",
    "What our program should do:\n",
    "1. parse input arguments\n",
    "2. create run_qaoa function that accepts estimator instance, creates VQE and runs calculation\n",
    "3. decide which sampler to use and run vqe\n",
    "    - if runtime service was passed then create a session and run `run_qaoa` function\n",
    "    - if runtime service was not passed then use stantard qiskit sampler\n",
    "4. save results from qaoa\n",
    "\n",
    "Roughly our QAOA program will look like this\n",
    "\n",
    "```python\n",
    "# qaoa.py\n",
    "\n",
    "import ...\n",
    "\n",
    "def run_qaoa(sampler: BaseSampler, optimizer: Optimizer, reps: int, operator: PauliSumOp):\n",
    "    qaoa = QAOA(sampler, optimizer, reps=reps)\n",
    "    return qaoa.compute_minimum_eigenvalue(operator)\n",
    "\n",
    "\n",
    "arguments = get_arguments()\n",
    "service = arguments.get(\"service\")\n",
    "operator = arguments.get(\"operator\")\n",
    "initial_point = arguments.get(\"initial_point\")\n",
    "reps = arguments.get(\"reps\", 1)\n",
    "optimizer = ...\n",
    "...\n",
    "if service is not None:\n",
    "    # if we have service we need to open a session and create sampler\n",
    "    service = arguments.get(\"service\")        \n",
    "    backend = arguments.get(\"backend\", \"ibmq_qasm_simulator\")\n",
    "    with Session(service=service, backend=backend) as session:\n",
    "        sampler = Sampler(session=session, options=options)\n",
    "        result = run_qaoa(sampler, optimizer, reps, operator)\n",
    "else:\n",
    "    # if we do not have a service let's use standart local sampler\n",
    "    sampler = QiskitSampler()\n",
    "    result = run_qaoa(sampler, optimizer, reps, operator)\n",
    "\n",
    "save_result({\n",
    "    \"cost_function_evals\": result.cost_function_evals,\n",
    "    \"eigenstate\": result.eigenstate,\n",
    "    \"eigenvalue\": result.eigenvalue,\n",
    "    \"optimal_parameters\": list(result.optimal_parameters.values()),\n",
    "    \"optimal_point\": result.optimal_point.tolist(),\n",
    "    \"optimal_value\": result.optimal_value,\n",
    "    \"optimizer_time\": result.optimizer_time\n",
    "})\n",
    "```"
   ]
  },
  {
   "cell_type": "markdown",
   "metadata": {},
   "source": [
    "At this point we have our program implemented. Now we need to actually run it. But before let's prepare input arguments from our QAOA program."
   ]
  },
  {
   "cell_type": "code",
   "execution_count": 2,
   "metadata": {},
   "outputs": [
    {
     "data": {
      "text/plain": [
       "{'initial_point': None,\n",
       " 'operator': SparsePauliOp(['ZIIZ'],\n",
       "               coeffs=[1.+0.j]),\n",
       " 'optimization_level': 1,\n",
       " 'optimizer': 'cobyla',\n",
       " 'reps': 2,\n",
       " 'service': None,\n",
       " 'backend': 'ibmq_qasm_simulator'}"
      ]
     },
     "execution_count": 2,
     "metadata": {},
     "output_type": "execute_result"
    }
   ],
   "source": [
    "from qiskit.quantum_info import SparsePauliOp\n",
    "from qiskit_ibm_runtime import QiskitRuntimeService\n",
    "\n",
    "USE_RUNTIME_SERVICE = False\n",
    "\n",
    "service = None\n",
    "backend = \"ibmq_qasm_simulator\"\n",
    "if USE_RUNTIME_SERVICE:\n",
    "    service = QiskitRuntimeService()\n",
    "\n",
    "input_arguments = {\n",
    "    \"initial_point\": None,\n",
    "    \"operator\": SparsePauliOp(\"ZIIZ\"),\n",
    "    \"optimization_level\": 1,\n",
    "    \"optimizer\": \"cobyla\",\n",
    "    \"reps\": 2,\n",
    "    \"service\": service,\n",
    "    \"backend\": backend\n",
    "}\n",
    "input_arguments"
   ]
  },
  {
   "cell_type": "code",
   "execution_count": 3,
   "metadata": {},
   "outputs": [],
   "source": [
    "from quantum_serverless import QuantumServerless, GatewayProvider\n",
    "import os"
   ]
  },
  {
   "cell_type": "code",
   "execution_count": 4,
   "metadata": {},
   "outputs": [
    {
     "data": {
      "text/plain": [
       "<QuantumServerless | providers [gateway-provider]>"
      ]
     },
     "execution_count": 4,
     "metadata": {},
     "output_type": "execute_result"
    }
   ],
   "source": [
    "provider = GatewayProvider(\n",
    "    username=\"user\",\n",
    "    password=\"password123\",\n",
    "    host=os.environ.get(\"GATEWAY_HOST\", \"http://localhost:8000\"),\n",
    ")\n",
    "\n",
    "serverless = QuantumServerless(provider)\n",
    "serverless"
   ]
  },
  {
   "cell_type": "code",
   "execution_count": 5,
   "metadata": {},
   "outputs": [
    {
     "data": {
      "text/plain": [
       "<Job | 8cd76a64-64ea-468f-a295-114dcc5abd2a>"
      ]
     },
     "execution_count": 5,
     "metadata": {},
     "output_type": "execute_result"
    }
   ],
   "source": [
    "from quantum_serverless import Program\n",
    "\n",
    "program = Program(\n",
    "    title=\"QAOA\",\n",
    "    entrypoint=\"qaoa.py\",\n",
    "    working_dir=\"./source_files/qaoa/\"\n",
    ")\n",
    "\n",
    "job = serverless.run(program, arguments=input_arguments)\n",
    "job"
   ]
  },
  {
   "cell_type": "code",
   "execution_count": 6,
   "metadata": {},
   "outputs": [
    {
     "data": {
      "text/plain": [
       "'SUCCEEDED'"
      ]
     },
     "execution_count": 6,
     "metadata": {},
     "output_type": "execute_result"
    }
   ],
   "source": [
    "job.status()"
   ]
  },
  {
   "cell_type": "code",
   "execution_count": 7,
   "metadata": {},
   "outputs": [
    {
     "data": {
      "text/plain": [
       "{'cost_function_evals': 56,\n",
       " 'eigenstate': {'0': 2.6425405e-09,\n",
       "  '1': 0.1249999973574594,\n",
       "  '2': 2.6425405e-09,\n",
       "  '3': 0.1249999973574594,\n",
       "  '4': 2.6425405e-09,\n",
       "  '5': 0.1249999973574594,\n",
       "  '6': 2.6425405e-09,\n",
       "  '7': 0.1249999973574594,\n",
       "  '8': 0.1249999973574594,\n",
       "  '9': 2.6425405e-09,\n",
       "  '10': 0.1249999973574594,\n",
       "  '11': 2.6425405e-09,\n",
       "  '12': 0.1249999973574594,\n",
       "  '13': 2.6425405e-09,\n",
       "  '14': 0.1249999973574594,\n",
       "  '15': 2.6425405e-09},\n",
       " 'eigenvalue': -0.9999999577193509,\n",
       " 'optimal_parameters': [-4.261262774122553,\n",
       "  -1.7722068719193094,\n",
       "  2.7455687782210543,\n",
       "  0.6701009936251439],\n",
       " 'optimal_point': [-4.261262774122553,\n",
       "  -1.7722068719193094,\n",
       "  2.7455687782210543,\n",
       "  0.6701009936251439],\n",
       " 'optimal_value': -0.9999999577193509,\n",
       " 'optimizer_time': 0.46456098556518555}"
      ]
     },
     "execution_count": 7,
     "metadata": {},
     "output_type": "execute_result"
    }
   ],
   "source": [
    "job.result()"
   ]
  }
 ],
 "metadata": {
  "kernelspec": {
   "display_name": "Python 3 (ipykernel)",
   "language": "python",
   "name": "python3"
  },
  "language_info": {
   "codemirror_mode": {
    "name": "ipython",
    "version": 3
   },
   "file_extension": ".py",
   "mimetype": "text/x-python",
   "name": "python",
   "nbconvert_exporter": "python",
   "pygments_lexer": "ipython3",
   "version": "3.7.13"
  }
 },
 "nbformat": 4,
 "nbformat_minor": 4
}
