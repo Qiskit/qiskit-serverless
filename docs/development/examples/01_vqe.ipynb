{
 "cells": [
  {
   "cell_type": "markdown",
   "metadata": {},
   "source": [
    "# Example: VQE program\n",
    "\n",
    "This tutorial will be demonstation of creating VQE Program as well as migration guide on how you can replicate IBM Quantum VQE custom runtime program.\n",
    "\n",
    "Let's first get information on what is VQE runtime program and what inputs and outputs it has.\n",
    "\n",
    "**Description** of runtime program is: Variational Quantum Eigensolver (VQE) to find the minimal eigenvalue of a Hamiltonian.\n",
    "\n",
    "**Inputs**:\n",
    "\n",
    "| name | type | description |\n",
    "| ---- | ---- | ----------- |\n",
    "| ansatz | object | A parameterized quantum circuit preparing the ansatz wavefunction for the VQE. It is assumed that all qubits are initially in the 0 state. | \n",
    "| initial_parameters|[array,string]|Initial parameters of the ansatz. Can be an array or the string ``'random'`` to choose random initial parameters.|\n",
    "|operator|object|The Hamiltonian whose smallest eigenvalue we're trying to find. Should be PauliSumOp|\n",
    "|method|str|The classical optimizer used in to update the parameters in each iteration. |\n",
    "\n",
    "\n",
    "**Return values**\n",
    "\n",
    "| name | type | description |\n",
    "| ---- | ---- | ----------- |\n",
    "|cost_function_evals|integer|The number of cost function (energy) evaluations.|\n",
    "|optimal_parameters|null|Not supported at the moment, therefore ``None``.|\n",
    "|optimal_point|array|The optimal parameter values found during the optimization. This is a numpy array.|\n",
    "|optimal_value|number|The smallest value found during the optimization. Equal to the ``eigenvalue`` attribute. This is a float.|\n",
    "|optimizer_evals|integer|The number of steps of the optimizer.|\n",
    "|optimizer_history|object|A dictionary containing information about the function evaluations (not necessarily the actual parameter value!): the current evaluation count, the parameters, the energy and the standard deviation.|\n",
    "|optimizer_time|number|The total time taken by the optimizer. This is a float.|\n",
    "\n",
    "We will also add optional `QiskitRuntimeService` as an argument to use that to access real devices.\n"
   ]
  },
  {
   "cell_type": "markdown",
   "metadata": {},
   "source": [
    "With that information we can start drafting our program implementation in `vqe.py` file.\n",
    "\n",
    "What our program should do:\n",
    "1. parse input arguments\n",
    "2. create run_vqe function that accepts estimator instance, creates VQE and runs calculation\n",
    "3. decide which estimator to use and run vqe\n",
    "    - if runtime service was passed then create a session and run `run_vqe` function\n",
    "    - if runtime service was not passed then use stantard qiskit estimator\n",
    "4. save results from vqe\n",
    "\n",
    "Roughly our VQE program will look like this\n",
    "\n",
    "```python\n",
    "# vqe.py\n",
    "\n",
    "import ...\n",
    "\n",
    "def run_vqe(\n",
    "    initial_parameters,\n",
    "    ansatz,\n",
    "    operator,\n",
    "    estimator,\n",
    "    method\n",
    "):\n",
    "    ...\n",
    "\n",
    "arguments = get_arguments()\n",
    "\n",
    "service = arguments.get(\"service\")\n",
    "ansatz = arguments.get(\"ansatz\")\n",
    "operator = arguments.get(\"operator\")\n",
    "initial_parameters = arguments.get(\"initial_parameters\") \n",
    "optimizer = ...\n",
    "\n",
    "...\n",
    "\n",
    "if service is not None:\n",
    "    # if we have service we need to open a session and create estimator\n",
    "    backend = arguments.get(\"backend\", \"ibmq_qasm_simulator\")\n",
    "    with Session(service=service, backend=backend) as session:\n",
    "        estimator = Estimator(session=session, options=options) # qiskit_ibm_runtime.Estimator\n",
    "        vqe_result = run_vqe( estimator=estimator, ...)\n",
    "else:\n",
    "    # if we do not have a service let's use standart local estimator\n",
    "    estimator = QiskitEstimator() # qiskit.primitives.Estimator\n",
    "\n",
    "vqe_result, callback_dict = run_vqe(\n",
    "    initial_parameters=initial_parameters,\n",
    "    ansatz=ansatz,\n",
    "    operator=operator,\n",
    "    estimator=estimator,\n",
    "    method=method\n",
    ")\n",
    "\n",
    "save_result({\n",
    "    \"optimal_point\": vqe_result.x.tolist(),\n",
    "    \"optimal_value\": vqe_result.fun,\n",
    "    \"optimizer_evals\": vqe_result.nfev,\n",
    "    \"optimizer_history\": callback_dict.get(\"cost_history\", []),\n",
    "    \"optimizer_time\": callback_dict.get(\"_total_time\", 0)\n",
    "})\n",
    "\n",
    "\n",
    "```"
   ]
  },
  {
   "cell_type": "markdown",
   "metadata": {},
   "source": [
    "At this point we have our program implemented. Now we need to actually run it. But before let's prepare input arguments from our VQE program."
   ]
  },
  {
   "cell_type": "code",
   "execution_count": 9,
   "metadata": {},
   "outputs": [
    {
     "data": {
      "text/plain": [
       "{'ansatz': <qiskit.circuit.library.n_local.efficient_su2.EfficientSU2 at 0x7f7e59b02ee0>,\n",
       " 'operator': SparsePauliOp(['YZ', 'ZI', 'ZZ', 'XX'],\n",
       "               coeffs=[ 0.398 +0.j, -0.398 +0.j, -0.0113+0.j,  0.181 +0.j]),\n",
       " 'method': 'COBYLA',\n",
       " 'service': None}"
      ]
     },
     "execution_count": 9,
     "metadata": {},
     "output_type": "execute_result"
    }
   ],
   "source": [
    "import numpy as np\n",
    "\n",
    "\n",
    "from qiskit.circuit.library import EfficientSU2\n",
    "from qiskit.quantum_info import SparsePauliOp\n",
    "\n",
    "from qiskit_ibm_runtime import QiskitRuntimeService, Estimator, Session, Options\n",
    "\n",
    "USE_RUNTIME_SERVICE = False\n",
    "\n",
    "service = None\n",
    "if USE_RUNTIME_SERVICE:\n",
    "    service = QiskitRuntimeService()\n",
    "    backend = \"ibmq_qasm_simulator\"\n",
    "\n",
    "operator = SparsePauliOp.from_list(\n",
    "    [(\"YZ\", 0.3980), (\"ZI\", -0.3980), (\"ZZ\", -0.0113), (\"XX\", 0.1810)]\n",
    ")\n",
    "ansatz = EfficientSU2(operator.num_qubits)\n",
    "    \n",
    "input_arguments = {\n",
    "    \"ansatz\": ansatz,\n",
    "    \"operator\": operator,\n",
    "    \"method\": \"COBYLA\",\n",
    "    \"service\": service\n",
    "}\n",
    "\n",
    "input_arguments"
   ]
  },
  {
   "cell_type": "markdown",
   "metadata": {},
   "source": [
    "With arguments prepared we can create our quantum serverless client, setup provider and run our program"
   ]
  },
  {
   "cell_type": "code",
   "execution_count": 10,
   "metadata": {},
   "outputs": [],
   "source": [
    "from quantum_serverless import QuantumServerless, Provider\n",
    "import os"
   ]
  },
  {
   "cell_type": "code",
   "execution_count": 11,
   "metadata": {},
   "outputs": [
    {
     "data": {
      "text/plain": [
       "<QuantumServerless | providers [gateway-provider]>"
      ]
     },
     "execution_count": 11,
     "metadata": {},
     "output_type": "execute_result"
    }
   ],
   "source": [
    "provider = Provider(\n",
    "    username=\"user\",\n",
    "    password=\"password123\",\n",
    "    host=os.environ.get(\"GATEWAY_HOST\", \"http://localhost:8000\"),\n",
    ")\n",
    "\n",
    "serverless = QuantumServerless(provider)\n",
    "serverless"
   ]
  },
  {
   "cell_type": "code",
   "execution_count": 12,
   "metadata": {},
   "outputs": [
    {
     "data": {
      "text/plain": [
       "<Job | f9ec298d-788b-429e-9a42-196d56954d24>"
      ]
     },
     "execution_count": 12,
     "metadata": {},
     "output_type": "execute_result"
    }
   ],
   "source": [
    "from quantum_serverless import Program\n",
    "\n",
    "program = Program(\n",
    "    title=\"VQE\",\n",
    "    entrypoint=\"vqe.py\",\n",
    "    working_dir=\"./source_files/vqe/\"\n",
    ")\n",
    "\n",
    "job = serverless.run(program, arguments=input_arguments)\n",
    "job"
   ]
  },
  {
   "cell_type": "code",
   "execution_count": 13,
   "metadata": {},
   "outputs": [
    {
     "data": {
      "text/plain": [
       "'QUEUED'"
      ]
     },
     "execution_count": 13,
     "metadata": {},
     "output_type": "execute_result"
    }
   ],
   "source": [
    "job.status()"
   ]
  },
  {
   "cell_type": "code",
   "execution_count": 14,
   "metadata": {},
   "outputs": [
    {
     "data": {
      "text/plain": [
       "'{\"optimal_point\": [-0.1792519774478331, 3.3690480121526396, 1.6216764077351256, 6.143139398511981, 0.49676653977835655, 2.374640057808242, 2.866200187127509, 2.50489457612712, 4.51800489248977, 4.78248888078524, 3.9586762267597324, 1.546113269910704, 7.685938511231928, 3.5731988425909336, 5.8298921420484, 5.098391668394297], \"optimal_value\": -0.7029303876247736, \"optimizer_evals\": 333, \"optimizer_history\": [-0.04397814147886023, -0.21348287749873493, -0.22682388084126995, -0.0683804070674735, -0.1669472475207855, 0.12409922698608211, -0.15487584379443692, -0.327011760994988, -0.3363001318119229, -0.02402793432805797, -0.3611931556726908, -0.3243501135790306, -0.6175274347223443, -0.20340618574430092, -0.6123428914378356, -0.500483771804176, -0.6838933249049571, -0.6619993124369523, -0.35369252630659076, -0.6230531482647764, -0.6931105208984558, -0.6255650373224049, -0.49365214652959305, -0.692786557513045, -0.6251937967963399, -0.6268364701131495, -0.5144299664153748, -0.65411062451384, -0.5670701719178565, -0.6264158884605353, -0.47477497833967386, -0.679389075117403, -0.4740019587571814, -0.6175090134469513, -0.6905499765931707, -0.6432119192906125, -0.6820180758460491, -0.6874614456543693, -0.6935027975901289, -0.6401835502738081, -0.6795189093220679, -0.6569185978814718, -0.6792626403948445, -0.696770394504601, -0.6708544307872115, -0.6969960945846222, -0.6972497299079178, -0.6948584441083129, -0.6717713135699235, -0.6854102741683281, -0.6891548311186999, -0.6945601469817042, -0.6999952473708992, -0.6974146309193814, -0.677998077606288, -0.696891146783136, -0.6916440724774446, -0.6976380005636541, -0.6894416287103026, -0.6986941632529274, -0.6823688821348957, -0.694864966854258, -0.7004592988493247, -0.6989743445697921, -0.7001594792581207, -0.6991139001914473, -0.7007655665722707, -0.696255155419552, -0.6994678698960157, -0.6989713174857625, -0.7005504927790727, -0.6944606090259453, -0.6994602502056282, -0.6916028630517455, -0.7002081157769577, -0.7014254909865938, -0.7008246041663696, -0.7012933374348937, -0.6999046424113916, -0.7014085259146398, -0.7013533346991633, -0.7012272860858414, -0.7007261843125872, -0.7007994461103211, -0.7012304845706723, -0.7017742419347879, -0.7016107892732413, -0.7016951426443706, -0.7017268813430744, -0.7015567200001617, -0.7008649402814956, -0.7017663402472233, -0.7015631130827765, -0.7016465236866949, -0.7020995225700731, -0.7018614305569834, -0.7020477942697387, -0.7023892702351403, -0.7023990412338837, -0.7023656741702398, -0.7024552481046129, -0.7025206201567449, -0.7025177897372736, -0.7025719068691536, -0.7018238636827354, -0.7025826960103998, -0.702500072043901, -0.7024297371203715, -0.7025692275422513, -0.7025014187116293, -0.702711731689825, -0.7026062006407707, -0.7027103382666664, -0.7026770481098255, -0.7024301310975475, -0.70260441683975, -0.7026579001104193, -0.7026515892876324, -0.70270925199648, -0.7027172652291916, -0.7026926380670343, -0.702624107678798, -0.70269959663675, -0.7027664917175473, -0.70273393498008, -0.7027381757781915, -0.7027468917232644, -0.702704906880945, -0.7027253912165569, -0.702812797200903, -0.7028148540307412, -0.702809448073612, -0.7027524830392556, -0.7028064841444404, -0.7027909007460554, -0.7027515587282595, -0.7027944788242675, -0.7027949659660996, -0.7028329091484335, -0.7028198286848419, -0.7028128617089417, -0.7027806577073044, -0.7028714702377796, -0.7028422839965411, -0.7028670304503906, -0.7028830706580037, -0.7028082520390025, -0.7028602999777678, -0.7028478645809965, -0.7028671889352709, -0.7028756961501635, -0.7028679030856091, -0.7028735972596323, -0.7028909225294675, -0.7028855059176545, -0.7029010099799626, -0.7029001572526876, -0.7028869672379768, -0.7029056661554376, -0.7028871028378428, -0.7029110073851119, -0.7029063194887776, -0.7029062654491571, -0.7029105398929961, -0.702908603232512, -0.7028994377598883, -0.702915020275393, -0.7029132447768385, -0.7029160322857662, -0.7029152353059465, -0.7029106482912917, -0.7029165708926267, -0.702917277028048, -0.7029143499907341, -0.7029181782760837, -0.7029183874366298, -0.7029163128348952, -0.7029181604188943, -0.7029195499781087, -0.7029202569655216, -0.7029054800000456, -0.7029170879279043, -0.7029218636220049, -0.7029178230763415, -0.7029192500997213, -0.7029225014205889, -0.7029243874851913, -0.7029222096767433, -0.7029216634925248, -0.7029241602863124, -0.7029173124191483, -0.7029258576499638, -0.7029253742379449, -0.7029265343991647, -0.7029291182467565, -0.7029229015296343, -0.7029293389976417, -0.7029292181121954, -0.7029290694656916, -0.7029230493865856, -0.7029289362910527, -0.702926633188639, -0.7029289030036057, -0.7029257628740304, -0.7029277007505356, -0.7029265018644009, -0.7029292571131626, -0.7029287847439245, -0.70292847249336, -0.7029292625116346, -0.7029293648557619, -0.7029292936328776, -0.7029277868962794, -0.702928772826895, -0.7029280818233331, -0.7029293922984274, -0.7029280667250666, -0.7029292998638179, -0.7029282645990759, -0.7029295725696942, -0.7029291926969943, -0.7029294298968247, -0.7029289472834184, -0.702929244129149, -0.7029287658598594, -0.7029292842500592, -0.7029293832336918, -0.7029296489048669, -0.7029295955574872, -0.7029295625932599, -0.7029294414690663, -0.7029295426771472, -0.702929420447517, -0.7029299736345551, -0.7029297282129936, -0.7029300066710784, -0.70293000755544, -0.7029300287588149, -0.7029297735590516, -0.702929927899523, -0.7029298566324722, -0.7029300609982513, -0.7029300364589769, -0.7029298188527465, -0.7029302456045512, -0.7029298733863887, -0.7029302571275897, -0.7029301740046512, -0.7029302325962599, -0.7029301330657033, -0.7029301335146549, -0.7029300986694382, -0.7029302592025224, -0.7029300748176016, -0.7029301842919968, -0.7029299271130727, -0.7029301943707938, -0.7029302491777494, -0.7029302972236408, -0.7029302805774069, -0.7029302619413662, -0.7029303066599168, -0.702930231361913, -0.702930273498495, -0.7029302939156039, -0.7029303015311239, -0.7029303249946162, -0.7029302761400877, -0.7029303242075179, -0.7029303174237895, -0.7029302258336585, -0.7029303348027747, -0.7029303188045002, -0.7029303372311442, -0.7029303421264661, -0.7029303674933416, -0.7029303693300926, -0.7029303696700391, -0.7029303637575712, -0.7029303601304836, -0.7029303626078439, -0.7029303721046616, -0.7029303689857045, -0.7029303480107785, -0.7029303637145116, -0.7029303730076216, -0.7029303709496464, -0.7029303634887147, -0.702930377379293, -0.7029303675480185, -0.7029303733923016, -0.7029303594309971, -0.7029303733738694, -0.70293036781742, -0.7029303709742837, -0.7029303701068392, -0.7029303778748296, -0.702930378055018, -0.7029303724038554, -0.7029303836191281, -0.702930383144692, -0.7029303856306329, -0.7029303859779228, -0.7029303863665576, -0.7029303857055706, -0.7029303853677988, -0.7029303853892616, -0.7029303877965029, -0.702930387454812, -0.7029303889444978, -0.7029303890864742, -0.7029303827676237, -0.7029303899133102, -0.7029303901401825, -0.7029303896766894, -0.7029303913170851, -0.7029303927420356, -0.7029303935610621, -0.70293039327265, -0.7029303933341333, -0.7029303917076948, -0.7029303933592024, -0.7029303930878406, -0.702930391045046, -0.7029303933519839, -0.7029303896519363, -0.7029303932975347, -0.7029303918248553, -0.702930392731893, -0.7029303921749024, -0.7029303930335884, -0.7029303876247736, -0.7029303876247736], \"optimizer_time\": 3.5547554999993736}'"
      ]
     },
     "execution_count": 14,
     "metadata": {},
     "output_type": "execute_result"
    }
   ],
   "source": [
    "job.result()"
   ]
  }
 ],
 "metadata": {
  "kernelspec": {
   "display_name": "Python 3 (ipykernel)",
   "language": "python",
   "name": "python3"
  },
  "language_info": {
   "codemirror_mode": {
    "name": "ipython",
    "version": 3
   },
   "file_extension": ".py",
   "mimetype": "text/x-python",
   "name": "python",
   "nbconvert_exporter": "python",
   "pygments_lexer": "ipython3",
   "version": "3.9.16"
  }
 },
 "nbformat": 4,
 "nbformat_minor": 4
}
