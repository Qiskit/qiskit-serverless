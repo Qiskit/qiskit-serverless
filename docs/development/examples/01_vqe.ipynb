{
 "cells": [
  {
   "cell_type": "markdown",
   "metadata": {},
   "source": [
    "# Example: VQE program\n",
    "\n",
    "This tutorial will be demonstation of creating VQE Program as well as migration guide on how you can replicate IBM Quantum VQE custom runtime program.\n",
    "\n",
    "Let's first get information on what is VQE runtime program and what inputs and outputs it has.\n",
    "\n",
    "**Description** of runtime program is: Variational Quantum Eigensolver (VQE) to find the minimal eigenvalue of a Hamiltonian.\n",
    "\n",
    "**Inputs**:\n",
    "\n",
    "| name | type | description |\n",
    "| ---- | ---- | ----------- |\n",
    "| ansatz | object | A parameterized quantum circuit preparing the ansatz wavefunction for the VQE. It is assumed that all qubits are initially in the 0 state. | \n",
    "|aux_operators|array| A list or dict (with strings as keys) of operators of type PauliSumOp to be evaluated at the final, optimized state.|\n",
    "|initial_layout | [null,array,object] | Initial position of virtual qubits on the physical qubits of the quantum device. Default is None. |\n",
    "| initial_parameters|[array,string]|Initial parameters of the ansatz. Can be an array or the string ``'random'`` to choose random initial parameters.|\n",
    "|max_evals_grouped|integer|The maximum number of parameter sets that can be evaluated at once. Defaults to the minimum of 2 times the number of parameters, or 1000.|\n",
    "|measurement_error_mitigation|boolean|Whether to apply measurement error mitigation in form of a complete measurement fitter to the measurements. Defaults to False.|\n",
    "|operator|object|The Hamiltonian whose smallest eigenvalue we're trying to find. Should be PauliSumOp|\n",
    "|optimizer|object|The classical optimizer used in to update the parameters in each iteration. Can be either any of Qiskit's Optimizer classes. If a dictionary, only SPSA and QN-SPSA are supported and the dictionary must specify the name and options of the optimizer, e.g. ``{'name': 'SPSA', 'maxiter': 100}``.|\n",
    "|shots|integer|The number of shots used for each circuit evaluation. Defaults to 1024.|\n",
    "\n",
    "**Return values**\n",
    "\n",
    "| name | type | description |\n",
    "| ---- | ---- | ----------- |\n",
    "|aux_operator_eigenvalues|array|The expectation values of the auxiliary operators at the optimal state. This is a numpy array.|\n",
    "|cost_function_evals|integer|The number of cost function (energy) evaluations.|\n",
    "|eigenstate|object|The square root of sampling probabilities for each computational basis state of the circuit with optimal parameters.|\n",
    "|eigenvalue|array|The estimated eigenvalue. This is a complex number.|\n",
    "|optimal_parameters|null|Not supported at the moment, therefore ``None``.|\n",
    "|optimal_point|array|The optimal parameter values found during the optimization. This is a numpy array.|\n",
    "|optimal_value|number|The smallest value found during the optimization. Equal to the ``eigenvalue`` attribute. This is a float.|\n",
    "|optimizer_evals|integer|The number of steps of the optimizer.|\n",
    "|optimizer_history|object|A dictionary containing information about the function evaluations (not necessarily the actual parameter value!): the current evaluation count, the parameters, the energy and the standard deviation.|\n",
    "|optimizer_time|number|The total time taken by the optimizer. This is a float.|\n",
    "\n",
    "We will also add optional `QiskitRuntimeService` as an argument to use that to access real devices.\n"
   ]
  },
  {
   "cell_type": "markdown",
   "metadata": {},
   "source": [
    "With that information we can start drafting our program implementation in `vqe.py` file.\n",
    "\n",
    "What our program should do:\n",
    "1. parse input arguments\n",
    "2. create run_vqe function that accepts estimator instance, creates VQE and runs calculation\n",
    "3. decide which estimator to use and run vqe\n",
    "    - if runtime service was passed then create a session and run `run_vqe` function\n",
    "    - if runtime service was not passed then use stantard qiskit estimator\n",
    "4. save results from vqe\n",
    "\n",
    "Roughly our VQE program will look like this\n",
    "\n",
    "```python\n",
    "# vqe.py\n",
    "\n",
    "import ...\n",
    "\n",
    "def run_vqe(\n",
    "    estimator: BaseEstimator,\n",
    "    ansatz: QuantumCircuit,\n",
    "    operator: PauliSumOp,\n",
    "    optimizer: Optimizer,\n",
    "    initial_parameters: Optional[np.ndarray] = None\n",
    "):\n",
    "    vqe = VQE(\n",
    "        estimator,\n",
    "        ansatz,\n",
    "        optimizer,\n",
    "        initial_point=initial_parameters\n",
    "    )\n",
    "    return vqe.compute_minimum_eigenvalue(operator)\n",
    "\n",
    "\n",
    "arguments = get_arguments()\n",
    "\n",
    "service = arguments.get(\"service\")\n",
    "ansatz = arguments.get(\"ansatz\")\n",
    "operator = arguments.get(\"operator\")\n",
    "initial_parameters = arguments.get(\"initial_parameters\") \n",
    "optimizer = ...\n",
    "\n",
    "...\n",
    "\n",
    "if service is not None:\n",
    "    # if we have service we need to open a session and create estimator\n",
    "    backend = arguments.get(\"backend\", \"ibmq_qasm_simulator\")\n",
    "    with Session(service=service, backend=backend) as session:\n",
    "        estimator = Estimator(session=session, options=options) # qiskit_ibm_runtime.Estimator\n",
    "        vqe_result = run_vqe( estimator=estimator, ...)\n",
    "else:\n",
    "    # if we do not have a service let's use standart local estimator\n",
    "    estimator = QiskitEstimator() # qiskit.primitives.Estimator\n",
    "    vqe_result = run_vqe(estimator=estimator, ...)\n",
    "\n",
    "save_result({\n",
    "    \"cost_function_evals\": vqe_result.cost_function_evals,\n",
    "    \"eigenvalue\": vqe_result.eigenvalue,\n",
    "    \"optimal_point\": vqe_result.optimal_point.tolist(),\n",
    "    \"optimal_value\": vqe_result.optimal_value,\n",
    "    \"optimizer_evals\": vqe_result.optimizer_evals,\n",
    "    \"optimizer_time\": vqe_result.optimizer_time,\n",
    "    ...\n",
    "})\n",
    "\n",
    "```"
   ]
  },
  {
   "cell_type": "markdown",
   "metadata": {},
   "source": [
    "At this point we have our program implemented. Now we need to actually run it. But before let's prepare input arguments from our VQE program."
   ]
  },
  {
   "cell_type": "code",
   "execution_count": 2,
   "metadata": {},
   "outputs": [
    {
     "data": {
      "text/plain": [
       "{'ansatz': <qiskit.circuit.library.n_local.real_amplitudes.RealAmplitudes at 0x7fe570ac5b10>,\n",
       " 'aux_operators': None,\n",
       " 'initial_layout': None,\n",
       " 'initial_parameters': array([ 1.96607313,  0.6418064 ,  2.83542552,  2.07848803, -2.14744829,\n",
       "         2.94371138, -2.27965871, -2.74576187, -2.38276942,  1.4102545 ,\n",
       "        -2.74783675, -2.81548099]),\n",
       " 'max_evals_grouped': None,\n",
       " 'measurement_error_mitigation': None,\n",
       " 'operator': PauliSumOp(SparsePauliOp(['IIII', 'IIIZ', 'IIZZ', 'IIZI', 'IZZI', 'IZZZ', 'ZXIX', 'IXZX', 'ZXZX', 'IXIX', 'ZZII', 'ZZIZ', 'IZIZ', 'ZZZZ', 'ZIZI'],\n",
       "               coeffs=[-0.8054406 +0.j,  0.17452525+0.j, -0.23287429+0.j,  0.12177673+0.j,\n",
       "   0.17452525+0.j,  0.1696433 +0.j,  0.04502464+0.j, -0.04502464+0.j,\n",
       "  -0.04502464+0.j,  0.04502464+0.j, -0.23287429+0.j,  0.16680137+0.j,\n",
       "   0.16680137+0.j,  0.17533917+0.j,  0.12177673+0.j]), coeff=1.0),\n",
       " 'optimizer': 'spsa',\n",
       " 'shots': None,\n",
       " 'service': None}"
      ]
     },
     "execution_count": 2,
     "metadata": {},
     "output_type": "execute_result"
    }
   ],
   "source": [
    "import numpy as np\n",
    "\n",
    "from qiskit.circuit.library import RealAmplitudes\n",
    "\n",
    "from qiskit_nature.second_q.drivers import PySCFDriver\n",
    "from qiskit_nature.second_q.mappers import QubitConverter, ParityMapper\n",
    "from qiskit_ibm_runtime import QiskitRuntimeService, Estimator, Session, Options\n",
    "\n",
    "USE_RUNTIME_SERVICE = False\n",
    "\n",
    "ansatz = RealAmplitudes(num_qubits=4, reps=2)\n",
    "initial_point = np.random.uniform(-np.pi, np.pi, 12)\n",
    "driver = PySCFDriver(\n",
    "    atom=\"H 0 0 0; H 0 0 0.72\"  # Two Hydrogen atoms, 0.72 Angstrom apart\n",
    ")\n",
    "molecule = driver.run()\n",
    "qubit_converter = QubitConverter(ParityMapper())\n",
    "hamiltonian = qubit_converter.convert(molecule.second_q_ops()[0])\n",
    "\n",
    "service = None\n",
    "if USE_RUNTIME_SERVICE:\n",
    "    service = QiskitRuntimeService()\n",
    "    backend = \"ibmq_qasm_simulator\"\n",
    "\n",
    "input_arguments = {\n",
    "    \"ansatz\": RealAmplitudes(num_qubits=4, reps=2),\n",
    "    \"aux_operators\": None,\n",
    "    \"initial_layout\": None,\n",
    "    \"initial_parameters\": initial_point,\n",
    "    \"max_evals_grouped\": None,\n",
    "    \"measurement_error_mitigation\": None,\n",
    "    \"operator\": hamiltonian,\n",
    "    \"optimizer\": \"spsa\",\n",
    "    \"shots\": None,\n",
    "    \"service\": service\n",
    "}\n",
    "\n",
    "input_arguments"
   ]
  },
  {
   "cell_type": "markdown",
   "metadata": {},
   "source": [
    "With arguments prepared we can create our quantum serverless client, setup provider and run our program"
   ]
  },
  {
   "cell_type": "code",
   "execution_count": 3,
   "metadata": {},
   "outputs": [],
   "source": [
    "from quantum_serverless import QuantumServerless, Provider\n",
    "import os"
   ]
  },
  {
   "cell_type": "code",
   "execution_count": 4,
   "metadata": {},
   "outputs": [
    {
     "data": {
      "text/plain": [
       "<QuantumServerless | providers [gateway-provider]>"
      ]
     },
     "execution_count": 4,
     "metadata": {},
     "output_type": "execute_result"
    }
   ],
   "source": [
    "provider = Provider(\n",
    "    username=\"user\",\n",
    "    password=\"password123\",\n",
    "    host=os.environ.get(\"GATEWAY_HOST\", \"http://localhost:8000\"),\n",
    ")\n",
    "\n",
    "serverless = QuantumServerless(provider)\n",
    "serverless"
   ]
  },
  {
   "cell_type": "code",
   "execution_count": 5,
   "metadata": {},
   "outputs": [
    {
     "data": {
      "text/plain": [
       "<Job | 95e03817-663a-42fa-b199-0ee5016d2d49>"
      ]
     },
     "execution_count": 5,
     "metadata": {},
     "output_type": "execute_result"
    }
   ],
   "source": [
    "from quantum_serverless import Program\n",
    "\n",
    "program = Program(\n",
    "    title=\"VQE\",\n",
    "    entrypoint=\"vqe.py\",\n",
    "    working_dir=\"./source_files/vqe/\"\n",
    ")\n",
    "\n",
    "job = serverless.run(program, arguments=input_arguments)\n",
    "job"
   ]
  },
  {
   "cell_type": "code",
   "execution_count": 6,
   "metadata": {},
   "outputs": [
    {
     "data": {
      "text/plain": [
       "'SUCCEEDED'"
      ]
     },
     "execution_count": 6,
     "metadata": {},
     "output_type": "execute_result"
    }
   ],
   "source": [
    "job.status()"
   ]
  },
  {
   "cell_type": "code",
   "execution_count": 7,
   "metadata": {},
   "outputs": [
    {
     "data": {
      "text/plain": [
       "['243: -1.252362175485805',\n",
       " '244: -1.245728828896075',\n",
       " '245: -1.2505250649172739',\n",
       " '246: -1.2572001670623152',\n",
       " '247: -1.2611976192184255',\n",
       " '248: -1.258139706050951',\n",
       " '249: -1.2322759435538633',\n",
       " '250: -1.224270224547061',\n",
       " '251: -1.2645989534506294']"
      ]
     },
     "execution_count": 7,
     "metadata": {},
     "output_type": "execute_result"
    }
   ],
   "source": [
    "job.logs().split(\"\\n\")[-10:-1]"
   ]
  },
  {
   "cell_type": "code",
   "execution_count": 8,
   "metadata": {},
   "outputs": [
    {
     "data": {
      "text/plain": [
       "{'aux_operator_eigenvalues': [],\n",
       " 'cost_function_evals': 200,\n",
       " 'eigenstate': None,\n",
       " 'eigenvalue': -1.2645989534506294,\n",
       " 'optimal_parameters': None,\n",
       " 'optimal_point': [3.0276372310610675,\n",
       "  0.13553102047367085,\n",
       "  2.5087090109567773,\n",
       "  1.8492042571718177,\n",
       "  -2.222021041944339,\n",
       "  3.5428224235643113,\n",
       "  -1.2788913910370245,\n",
       "  -2.8246845124804763,\n",
       "  -2.728535775675822,\n",
       "  3.4434351915865857,\n",
       "  -1.9083062252923417,\n",
       "  -1.7416966890283174],\n",
       " 'optimal_value': -1.2645989534506294,\n",
       " 'optimizer_evals': None,\n",
       " 'optimizer_history': {},\n",
       " 'optimizer_time': 0.8049108982086182}"
      ]
     },
     "execution_count": 8,
     "metadata": {},
     "output_type": "execute_result"
    }
   ],
   "source": [
    "job.result()"
   ]
  }
 ],
 "metadata": {
  "kernelspec": {
   "display_name": "Python 3 (ipykernel)",
   "language": "python",
   "name": "python3"
  },
  "language_info": {
   "codemirror_mode": {
    "name": "ipython",
    "version": 3
   },
   "file_extension": ".py",
   "mimetype": "text/x-python",
   "name": "python",
   "nbconvert_exporter": "python",
   "pygments_lexer": "ipython3",
   "version": "3.7.13"
  }
 },
 "nbformat": 4,
 "nbformat_minor": 4
}
