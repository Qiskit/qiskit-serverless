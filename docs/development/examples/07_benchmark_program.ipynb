{
 "cells": [
  {
   "cell_type": "markdown",
   "id": "604850c4-053a-4b78-bff2-f5f0c9250ed8",
   "metadata": {},
   "source": [
    "# Example: complex workflows\n",
    "\n",
    "In order to test compute resources we need to have a benchmark.\n",
    "\n",
    "In this benchmark program we demonstrate parallel workflows, recursion, parameter handling, etc.\n",
    "\n",
    "Below you can see an execution graph. Each of these boxes is a task in a program. This benchmark is designed to test vertical and horizontal scalability of compute resources.\n",
    "\n",
    "![benchmark flow](./images/benchmark_flow.png)\n",
    "\n",
    "The benchmark accepts a list of arguments to control stress levels:\n",
    "- `n_entries` - number of circuits and observables will be used in each iteration on generation task.\n",
    "- `depth_of_recursion` - defines how many recursive iterations generation task will have. (Number of generated circuits will be n_entries * depth_of_recursion).\n",
    "- `n_backends` - number of backends, which defines how many parallel transpilations and estimations will happen.\n",
    "- `num_qubits` - number of qubits will be used in a program. Affects backends, circuits and observables.\n",
    "- `circuit_depth` - depth of generated circuits.\n",
    "- `size_of_observable` - size of generated observables.\n",
    "- `n_graphs` - number of times graph above will be executed within one program.\n",
    "\n",
    "\n",
    "------\n",
    "\n",
    "\n",
    "Now let's create serverless object and lunch execution of our benchmark."
   ]
  },
  {
   "cell_type": "code",
   "execution_count": 1,
   "id": "b031e9c4-8503-4535-8517-22f445593eb5",
   "metadata": {},
   "outputs": [],
   "source": [
    "from quantum_serverless import QuantumServerless, Program, Provider\n",
    "import os"
   ]
  },
  {
   "cell_type": "code",
   "execution_count": 2,
   "id": "3694d35b-6ad7-4a60-9edc-9c674be56908",
   "metadata": {},
   "outputs": [
    {
     "data": {
      "text/plain": [
       "<QuantumServerless | providers [gateway-provider]>"
      ]
     },
     "execution_count": 2,
     "metadata": {},
     "output_type": "execute_result"
    }
   ],
   "source": [
    "gateway_provider = Provider(\n",
    "    username=\"user\",\n",
    "    password=\"password123\",\n",
    "    host=os.environ.get(\"GATEWAY_HOST\", \"http://localhost:8000\"),\n",
    ")\n",
    "serverless = QuantumServerless(gateway_provider)\n",
    "serverless"
   ]
  },
  {
   "cell_type": "code",
   "execution_count": 3,
   "id": "030ccde4-d18b-43fc-979e-68df797f5977",
   "metadata": {},
   "outputs": [
    {
     "data": {
      "text/plain": [
       "<Job | 192f4f1a-0611-40e8-addd-98bf6af8aa62>"
      ]
     },
     "execution_count": 3,
     "metadata": {},
     "output_type": "execute_result"
    }
   ],
   "source": [
    "program = Program(\n",
    "    title=\"benchmark_program\",\n",
    "    entrypoint=\"benchmark.py\",\n",
    "    working_dir=\"./source_files\",\n",
    "    description=\"Benchmark program to test compute resources.\"\n",
    ")\n",
    "\n",
    "job = serverless.run(program, arguments={\n",
    "    \"num_qubits\": 2,\n",
    "    \"n_entries\": 2,\n",
    "    \"depth_of_recursion\": 4,\n",
    "    \"n_backends\": 3,\n",
    "    \"n_graphs\": 1\n",
    "})\n",
    "job"
   ]
  },
  {
   "cell_type": "code",
   "execution_count": 9,
   "id": "316d3bdd-c9ed-404e-bf76-afca850920f5",
   "metadata": {},
   "outputs": [
    {
     "data": {
      "text/plain": [
       "'SUCCEEDED'"
      ]
     },
     "execution_count": 9,
     "metadata": {},
     "output_type": "execute_result"
    }
   ],
   "source": [
    "job.status()"
   ]
  }
 ],
 "metadata": {
  "kernelspec": {
   "display_name": "Python 3 (ipykernel)",
   "language": "python",
   "name": "python3"
  },
  "language_info": {
   "codemirror_mode": {
    "name": "ipython",
    "version": 3
   },
   "file_extension": ".py",
   "mimetype": "text/x-python",
   "name": "python",
   "nbconvert_exporter": "python",
   "pygments_lexer": "ipython3",
   "version": "3.7.13"
  }
 },
 "nbformat": 4,
 "nbformat_minor": 5
}
