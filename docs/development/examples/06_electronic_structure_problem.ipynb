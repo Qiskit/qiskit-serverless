{
 "cells": [
  {
   "cell_type": "markdown",
   "id": "fb50609d-11f1-4d0e-ac2e-fd13337db11a",
   "metadata": {},
   "source": [
    "# Example: solving electronic structure problem"
   ]
  },
  {
   "cell_type": "markdown",
   "id": "2de9d953-9b8c-4cad-b72b-5a5cf8ddd8fb",
   "metadata": {},
   "source": [
    "### Overview\n",
    "\n",
    "This is overview architecture of this demo\n",
    "\n",
    "![electronic_structure_problem](images/electronic_structure_problem.png)"
   ]
  },
  {
   "cell_type": "markdown",
   "id": "7121de7b-f37b-4afd-b422-ab5ba5c90176",
   "metadata": {},
   "source": [
    "### Implementation\n",
    "\n",
    "Let's see how we can implement this.\n",
    "For full implementation [see here](./source_files/electronic_structure_problem.py).\n",
    "\n",
    "```python\n",
    "from quantum_serverless import distribute_task, get\n",
    "\n",
    "\n",
    "@distribute_task()\n",
    "def ground_state_solve(\n",
    "    molecule: Molecule,\n",
    "    initial_point: Union[List[float], np.ndarray],\n",
    "    options: Optional[Options] = None,\n",
    "    service: Optional[Union[QiskitRuntimeService, Dict[str, Any]]] = None,\n",
    "):\n",
    "    driver = PySCFDriver.from_molecule(molecule=molecule, ...)\n",
    "    es_problem = ElectronicStructureProblem(driver, ...)\n",
    "    ansatz = ...\n",
    "    operator = qubit_converter.convert(es_problem.second_q_ops(), ...)\n",
    "    optimizer = COBYLA(maxiter=500)\n",
    "    ...\n",
    "    \n",
    "    with Session(service=service) as session:\n",
    "        estimator = Estimator(session=session, options=options)\n",
    "\n",
    "        vqe = EstimatorVQE(\n",
    "            estimator=estimator,\n",
    "            circuit=ansatz,\n",
    "            optimizer=optimizer,\n",
    "            init_point=initial_point,\n",
    "        )\n",
    "\n",
    "        vqe_result = vqe.compute_minimum_eigenvalue(operator)\n",
    "       \n",
    "    return vqe_result.optimal_value\n",
    "\n",
    "\n",
    "def electronic_structure_problem(\n",
    "    molecules: List[Molecule],\n",
    "    initial_points: Optional[List[List[float]]] = None,\n",
    "    service: Optional[QiskitRuntimeService] = None,\n",
    "    backends: Optional[List[IBMQBackend]] = None,\n",
    "):\n",
    "    ...\n",
    "    function_references = [\n",
    "        hardware_efficient_ansatz(\n",
    "            molecule=molecule,\n",
    "            initial_point=initial_point,\n",
    "            service=service,\n",
    "        )\n",
    "        for molecule, initial_point in zip(molecules, initial_points)\n",
    "    ]\n",
    "\n",
    "    return get(function_references)\n",
    "\n",
    "...\n",
    "\n",
    "state_handler = RedisStateHandler(...)\n",
    "\n",
    "state_handler.set(\"results\", {\n",
    "    \"energies\": energies,\n",
    "    \"shifts\": shifts\n",
    "})\n",
    "```"
   ]
  },
  {
   "cell_type": "markdown",
   "id": "631287dd-dbac-44dd-996f-58f1534dbb47",
   "metadata": {},
   "source": [
    "### Execution"
   ]
  },
  {
   "cell_type": "code",
   "execution_count": 1,
   "id": "290bf01e-3175-4c60-b7b7-ce02ea40fb08",
   "metadata": {},
   "outputs": [],
   "source": [
    "import matplotlib.pyplot as plt\n",
    "\n",
    "from quantum_serverless import QuantumServerless, Program, GatewayProvider\n",
    "from quantum_serverless.core import RedisStateHandler\n",
    "import os"
   ]
  },
  {
   "cell_type": "code",
   "execution_count": 17,
   "id": "c35bf9df-e68c-45b7-a992-2471aee29d60",
   "metadata": {},
   "outputs": [],
   "source": [
    "gateway_provider = GatewayProvider(\n",
    "    username=\"user\",\n",
    "    password=\"password123\",\n",
    "    host=os.environ.get(\"GATEWAY_HOST\", \"http://localhost:8000\"),\n",
    ")\n",
    "\n",
    "serverless = QuantumServerless(gateway_provider)\n",
    "serverless"
   ]
  },
  {
   "cell_type": "code",
   "execution_count": 23,
   "id": "a0789a71-0b84-4736-9f34-579205dbc3c2",
   "metadata": {},
   "outputs": [
    {
     "data": {
      "text/plain": [
       "<Job | 77df38b0-b8ad-4ce7-a8d6-150213acdcab>"
      ]
     },
     "execution_count": 23,
     "metadata": {},
     "output_type": "execute_result"
    }
   ],
   "source": [
    "program = Program(\n",
    "    title=\"electronic_structure\",\n",
    "    entrypoint=\"electronic_structure_problem.py\",\n",
    "    working_dir=\"./source_files/\",\n",
    "    description=\"Electronic structure program\",\n",
    "    dependencies=[\"pyscf\"]\n",
    ")\n",
    "\n",
    "job = serverless.run(program)\n",
    "job"
   ]
  },
  {
   "cell_type": "code",
   "execution_count": 24,
   "id": "565b5bc5-b084-4382-88d3-62920cff73ca",
   "metadata": {},
   "outputs": [
    {
     "data": {
      "text/plain": [
       "'SUCCEEDED'"
      ]
     },
     "execution_count": 24,
     "metadata": {},
     "output_type": "execute_result"
    }
   ],
   "source": [
    "job.status()"
   ]
  },
  {
   "cell_type": "code",
   "execution_count": 25,
   "id": "0d0c3e32-ea08-4939-a4ca-6b6150f2c2c8",
   "metadata": {},
   "outputs": [
    {
     "data": {
      "text/plain": [
       "{'energies': [-1.1696351434408958, -1.094947029315754, -0.9811710247000608],\n",
       " 'shifts': [-6.60978477113754, -6.78195162695426, -6.870414678427144],\n",
       " 'result': [-7.779419914578436, -7.876898656270014, -7.8515857031272045]}"
      ]
     },
     "execution_count": 25,
     "metadata": {},
     "output_type": "execute_result"
    }
   ],
   "source": [
    "job.result()"
   ]
  },
  {
   "cell_type": "code",
   "execution_count": 26,
   "id": "95305dc2-2f82-418f-abde-53299f255798",
   "metadata": {},
   "outputs": [],
   "source": [
    "# get results from job by accessing data written inside the job\n",
    "results = job.result()\n",
    "energies = results.get(\"energies\")\n",
    "shifts = results.get(\"shifts\")\n",
    "\n",
    "final_energies = [e + s for e, s in zip(energies, shifts)]"
   ]
  },
  {
   "cell_type": "code",
   "execution_count": 27,
   "id": "2709a858-4494-44d8-b750-81585512dc5c",
   "metadata": {},
   "outputs": [
    {
     "data": {
      "image/png": "[encoded data removed]",
      "text/plain": [
       "<Figure size 640x480 with 1 Axes>"
      ]
     },
     "metadata": {},
     "output_type": "display_data"
    }
   ],
   "source": [
    "# plot results\n",
    "dist = [1.0,1.5,2.0]\n",
    "\n",
    "plt.plot(dist, final_energies, 'o', label = 'VQE')\n",
    "plt.xlabel('LiH dist (A)')\n",
    "plt.ylabel('Enrgy (Ha)')\n",
    "plt.legend()\n",
    "plt.show()"
   ]
  }
 ],
 "metadata": {
  "kernelspec": {
   "display_name": "Python 3 (ipykernel)",
   "language": "python",
   "name": "python3"
  },
  "language_info": {
   "codemirror_mode": {
    "name": "ipython",
    "version": 3
   },
   "file_extension": ".py",
   "mimetype": "text/x-python",
   "name": "python",
   "nbconvert_exporter": "python",
   "pygments_lexer": "ipython3",
   "version": "3.7.13"
  }
 },
 "nbformat": 4,
 "nbformat_minor": 5
}
