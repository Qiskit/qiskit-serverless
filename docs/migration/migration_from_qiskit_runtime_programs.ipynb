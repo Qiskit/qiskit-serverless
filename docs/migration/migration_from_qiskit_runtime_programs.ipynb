{
 "cells": [
  {
   "cell_type": "markdown",
   "id": "7d054012-24ae-4249-8263-ba857939e9ca",
   "metadata": {},
   "source": [
    "# Converting from Qiskit Runtime Programs\n",
    "\n",
    "This tutorial will be a demonstation of converting your custom Qiskit Runtime Program into a Quantum Serverless `Program`.\n",
    "\n",
    "If you were using Qiskit Runtime Programs before, your code probably looks similar to the following example:\n",
    "\n",
    "```python\n",
    "\"\"\"A sample runtime program that submits random circuits for user-specified iterations.\"\"\"\n",
    "\n",
    "import random\n",
    "\n",
    "from qiskit import transpile\n",
    "from qiskit.circuit.random import random_circuit\n",
    "\n",
    "\n",
    "def prepare_circuits(backend):\n",
    "    circuit = random_circuit(\n",
    "        num_qubits=5, depth=4, measure=True, seed=random.randint(0, 1000)\n",
    "    )\n",
    "    return transpile(circuit, backend)\n",
    "\n",
    "\n",
    "def main(backend, user_messenger, **kwargs):\n",
    "    \"\"\"Main entry point of the program.\n",
    "\n",
    "    Args:\n",
    "        backend: Backend to submit the circuits to.\n",
    "        user_messenger: Used to communicate with the program consumer.\n",
    "        kwargs: User inputs.\n",
    "    \"\"\"\n",
    "    iterations = kwargs.pop(\"iterations\", 5)\n",
    "    for it in range(iterations):\n",
    "        qc = prepare_circuits(backend)\n",
    "        result = backend.run(qc).result()\n",
    "        user_messenger.publish({\"iteration\": it, \"counts\": result.get_counts()})\n",
    "\n",
    "    return \"Hello, World!\"\n",
    "```\n",
    "\n",
    "\n",
    "All Qiskit Runtime Programs have a `main` method which accepts `backend`, `user_messenger` and `**kwargs`. This method is not required for Quantum Serverless programs.\n",
    "\n",
    "Quantum Serverless handles backends, logging, and input arguments a bit differently than Qiskit Runtime:\n",
    "\n",
    "- `backend`. For Quantum Serverless programs you are not limited to single backend for a program. You can call any\n",
    "  number of backends from single program. Since `Backend.run` is deprecated, we will be using Qiskit Primitives to do our calculation.\n",
    "- `user_messenger` were used in Qiskit Runtime Programs to facilitate retrieving logs from the program. Quantum Serverless does not\n",
    "  require passing such an object. Instead, all contents of `stdout` (e.g. print statements, logging messages) will be provided to the\n",
    "  user via the Quantum Serverless job handler.\n",
    "- `**kwargs` was a variable used to capture program inputs from the user. Users should now input their arguments to the `Program` constructor,\n",
    "  and the arguments should be retrieved within the program using the `get_arguments` function from Quantum Serverless.\n",
    "- To save the results of a program, the `save_result` function should be used. It accepts a python dictionary and can be accessed via the job handler.\n",
    "\n",
    "Let's use the guidelines above to transform the above Qiskit Runtime Program into a Quantum Serverless Program.\n",
    "\n",
    "```python\n",
    "# migrated_program.py\n",
    "\"\"\"A sample runtime program that submits random circuits for user-specified iterations.\"\"\"\n",
    "\n",
    "import random\n",
    "\n",
    "from qiskit import transpile\n",
    "from qiskit.circuit.random import random_circuit\n",
    "from qiskit.primitives import Sampler\n",
    "\n",
    "from quantum_serverless import get_arguments, save_result\n",
    "\n",
    "\n",
    "def prepare_circuits():\n",
    "    circuit = random_circuit(\n",
    "        num_qubits=5, depth=4, measure=True, seed=random.randint(0, 1000)\n",
    "    )\n",
    "    return transpile(circuit)\n",
    "\n",
    "\n",
    "arguments = get_arguments()\n",
    "iterations = arguments.get(\"iterations\", 5)\n",
    "\n",
    "for it in range(iterations):\n",
    "    qc = prepare_circuits()\n",
    "    result = Sampler.run(qc).result()\n",
    "    print({\"iteration\": it, \"dists\": result.quasi_dists})\n",
    "\n",
    "save_result({\"result\": \"Hello, World!\"})\n",
    "```\n",
    "\n",
    "Let's save this code as `./src/migrated_program.py` and execute it using the `Program` class from the `quantum_serverless` package."
   ]
  },
  {
   "cell_type": "code",
   "execution_count": 1,
   "id": "50fb2a64-751d-40fb-bac8-db49dc92fbca",
   "metadata": {},
   "outputs": [],
   "source": [
    "from quantum_serverless import Program\n",
    "\n",
    "program = Program(\n",
    "    title=\"Migrated program\", entrypoint=\"migrated_program.py\", working_dir=\"./src/\"\n",
    ")"
   ]
  },
  {
   "cell_type": "code",
   "execution_count": 2,
   "id": "162c482e-8f86-4224-a9b9-f6567b34acf4",
   "metadata": {},
   "outputs": [
    {
     "data": {
      "text/plain": [
       "<QuantumServerless | providers [gateway-provider]>"
      ]
     },
     "execution_count": 2,
     "metadata": {},
     "output_type": "execute_result"
    }
   ],
   "source": [
    "from quantum_serverless import QuantumServerless, ServerlessProvider\n",
    "import os\n",
    "\n",
    "provider = ServerlessProvider(\n",
    "    username=os.environ.get(\"GATEWAY_USER\", \"user\"),\n",
    "    password=os.environ.get(\"GATEWAY_PASSWORD\", \"password123\"),\n",
    "    # token=os.environ.get(\"GATEWAY_TOKEN\", \"<TOKEN>\"), # token can be used instead of user/password combination\n",
    "    host=os.environ.get(\"GATEWAY_HOST\", \"http://localhost:8000\"),\n",
    ")\n",
    "\n",
    "serverless = QuantumServerless(provider)\n",
    "serverless"
   ]
  },
  {
   "cell_type": "markdown",
   "id": "31e22bdd-2625-494a-a697-b1e26fcd066a",
   "metadata": {},
   "source": [
    "While Qiskit Runtime programs required users to upload their program and call it in two separate steps, the ``Program`` class allows users to send a job for remote execution in a single step."
   ]
  },
  {
   "cell_type": "code",
   "execution_count": 19,
   "id": "9f6eddae-a889-4958-8f0a-7e9f8ec29800",
   "metadata": {},
   "outputs": [
    {
     "data": {
      "text/plain": [
       "<Job | 9c5010df-e2f2-42d2-ac44-be5d28bf6741>"
      ]
     },
     "execution_count": 19,
     "metadata": {},
     "output_type": "execute_result"
    }
   ],
   "source": [
    "job = serverless.run(program, arguments={\"iterations\": 3})\n",
    "job"
   ]
  },
  {
   "cell_type": "code",
   "execution_count": 20,
   "id": "2223b57b-1dbc-45c7-8fd6-8e2ebfb843aa",
   "metadata": {},
   "outputs": [
    {
     "data": {
      "text/plain": [
       "'{\"result\": \"Hello, World!\"}'"
      ]
     },
     "execution_count": 20,
     "metadata": {},
     "output_type": "execute_result"
    }
   ],
   "source": [
    "job.result()"
   ]
  },
  {
   "cell_type": "code",
   "execution_count": 21,
   "id": "314e7716-8495-41e0-92dc-b2404ec860d4",
   "metadata": {},
   "outputs": [
    {
     "name": "stdout",
     "output_type": "stream",
     "text": [
      "OpenBLAS WARNING - could not determine the L2 cache size on this system, assuming 256k\n",
      "OpenBLAS WARNING - could not determine the L2 cache size on this system, assuming 256k\n",
      "{'iteration': 0, 'dists': [{8: 0.0044464220610969, 9: 0.0714788704988803, 10: 0.0025387094251744, 11: 0.0408112589724704, 12: 0.0044464220610969, 13: 0.0714788704988803, 14: 0.0025387094251744, 15: 0.0408112589724704, 24: 0.0323482396235251, 25: 0.2100040886340835, 26: 0.018469407467762, 27: 0.1199030033170077, 28: 0.0323482396235251, 29: 0.2100040886340835, 30: 0.018469407467762, 31: 0.1199030033170077}]}\n",
      "{'iteration': 1, 'dists': [{0: 0.0029658828912998, 1: 0.0237036789902499, 4: 0.0150644475889747, 5: 0.1203968069211296, 8: 0.0061806907129902, 9: 0.0493967948055204, 10: 0.0035529476369869, 11: 0.0283955683157122, 12: 0.0313932460322799, 13: 0.2508984520575557, 14: 0.0144443775915554, 15: 0.1154411358076723, 16: 2.64895095504e-05, 17: 0.0002117072231119, 20: 6.5157421817e-06, 21: 5.20745648832e-05, 24: 5.52022691625e-05, 25: 0.0004411829177743, 26: 0.0074040922276745, 27: 0.0591743611636965, 28: 1.35783470443e-05, 29: 0.0001085197195414, 30: 0.0301010639013888, 31: 0.2405711830620639}]}\n",
      "{'iteration': 2, 'dists': [{0: 0.0039688421058765, 1: 0.1105278404952374, 2: 0.0010364406823262, 3: 0.0288637207938572, 8: 0.2163089101542446, 9: 0.0656597293669953, 10: 0.0564878492146483, 11: 0.0171466671868148, 16: 0.0053863259939914, 17: 0.1091103566071225, 18: 0.0014066085874713, 19: 0.0284935528887121, 24: 0.2177263940423595, 25: 0.0642422454788804, 26: 0.0568580171197935, 27: 0.0167764992816696}]}\n",
      "\n"
     ]
    }
   ],
   "source": [
    "print(job.logs())"
   ]
  }
 ],
 "metadata": {
  "kernelspec": {
   "display_name": "Python 3 (ipykernel)",
   "language": "python",
   "name": "python3"
  },
  "language_info": {
   "codemirror_mode": {
    "name": "ipython",
    "version": 3
   },
   "file_extension": ".py",
   "mimetype": "text/x-python",
   "name": "python",
   "nbconvert_exporter": "python",
   "pygments_lexer": "ipython3",
   "version": "3.10.13"
  }
 },
 "nbformat": 4,
 "nbformat_minor": 5
}
