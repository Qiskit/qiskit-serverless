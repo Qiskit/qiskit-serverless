{
 "cells": [
  {
   "cell_type": "markdown",
   "id": "7d054012-24ae-4249-8263-ba857939e9ca",
   "metadata": {},
   "source": [
    "# Converting from Qiskit Runtime Programs\n",
    "\n",
    "This tutorial will be a demonstation of converting your custom Qiskit Runtime Program into a Quantum Serverless `QiskitPattern`.\n",
    "\n",
    "If you were using Qiskit Runtime Programs before, your code probably looks similar to the following example:\n",
    "\n",
    "```python\n",
    "\"\"\"A sample runtime program that submits random circuits for user-specified iterations.\"\"\"\n",
    "\n",
    "import random\n",
    "\n",
    "from qiskit import transpile\n",
    "from qiskit.circuit.random import random_circuit\n",
    "\n",
    "\n",
    "def prepare_circuits(backend):\n",
    "    circuit = random_circuit(\n",
    "        num_qubits=5, depth=4, measure=True, seed=random.randint(0, 1000)\n",
    "    )\n",
    "    return transpile(circuit, backend)\n",
    "\n",
    "\n",
    "def main(backend, user_messenger, **kwargs):\n",
    "    \"\"\"Main entry point of the program.\n",
    "\n",
    "    Args:\n",
    "        backend: Backend to submit the circuits to.\n",
    "        user_messenger: Used to communicate with the program consumer.\n",
    "        kwargs: User inputs.\n",
    "    \"\"\"\n",
    "    iterations = kwargs.pop(\"iterations\", 5)\n",
    "    for it in range(iterations):\n",
    "        qc = prepare_circuits(backend)\n",
    "        result = backend.run(qc).result()\n",
    "        user_messenger.publish({\"iteration\": it, \"counts\": result.get_counts()})\n",
    "\n",
    "    return \"Hello, World!\"\n",
    "```\n",
    "\n",
    "\n",
    "All Qiskit Runtime Programs have a `main` method which accepts `backend`, `user_messenger` and `**kwargs`. This method is not required for Quantum Serverless patterns.\n",
    "\n",
    "Quantum Serverless handles backends, logging, and input arguments a bit differently than Qiskit Runtime:\n",
    "\n",
    "- `backend`. For Quantum Serverless programs you are not limited to single backend for a program. You can call any\n",
    "  number of backends from single program. Since `Backend.run` is deprecated, we will be using Qiskit Primitives to do our calculation.\n",
    "- `user_messenger` were used in Qiskit Runtime Programs to facilitate retrieving logs from the program. Quantum Serverless does not\n",
    "  require passing such an object. Instead, all contents of `stdout` (e.g. print statements, logging messages) will be provided to the\n",
    "  user via the Quantum Serverless job handler.\n",
    "- `**kwargs` was a variable used to capture program inputs from the user. Users should now input their arguments to the `ServerlessProvider.run` method,\n",
    "  and the arguments should be retrieved within the pattern using the `get_arguments` function from Quantum Serverless.\n",
    "- To save the results of a pattern, the `save_result` function should be used. It accepts a python dictionary and can be accessed via the job handler.\n",
    "\n",
    "Let's use the guidelines above to transform the above Qiskit Runtime Program into a Quantum Serverless QiskitPattern.\n",
    "\n",
    "```python\n",
    "# migrated_pattern.py\n",
    "\"\"\"A sample runtime pattern that submits random circuits for user-specified iterations.\"\"\"\n",
    "\n",
    "import random\n",
    "\n",
    "from qiskit import transpile\n",
    "from qiskit.circuit.random import random_circuit\n",
    "from qiskit.primitives import Sampler\n",
    "\n",
    "from quantum_serverless import get_arguments, save_result\n",
    "\n",
    "\n",
    "def prepare_circuits():\n",
    "    circuit = random_circuit(\n",
    "        num_qubits=5, depth=4, measure=True, seed=random.randint(0, 1000)\n",
    "    )\n",
    "    return transpile(circuit)\n",
    "\n",
    "\n",
    "arguments = get_arguments()\n",
    "iterations = arguments.get(\"iterations\", 5)\n",
    "\n",
    "for it in range(iterations):\n",
    "    qc = prepare_circuits()\n",
    "    result = Sampler.run(qc).result()\n",
    "    print({\"iteration\": it, \"dists\": result.quasi_dists})\n",
    "\n",
    "save_result({\"result\": \"Hello, World!\"})\n",
    "```\n",
    "\n",
    "Let's save this code as `./src/migrated_pattern.py` and execute it using the `QiskitPattern` class from the `quantum_serverless` package."
   ]
  },
  {
   "cell_type": "code",
   "execution_count": 1,
   "id": "50fb2a64-751d-40fb-bac8-db49dc92fbca",
   "metadata": {},
   "outputs": [],
   "source": [
    "from quantum_serverless import QiskitPattern\n",
    "\n",
    "pattern = QiskitPattern(\n",
    "    title=\"migrated-pattern\", entrypoint=\"migrated_pattern.py\", working_dir=\"./src/\"\n",
    ")"
   ]
  },
  {
   "cell_type": "code",
   "execution_count": 2,
   "id": "162c482e-8f86-4224-a9b9-f6567b34acf4",
   "metadata": {},
   "outputs": [
    {
     "data": {
      "text/plain": [
       "<ServerlessProvider: gateway-provider>"
      ]
     },
     "execution_count": 2,
     "metadata": {},
     "output_type": "execute_result"
    }
   ],
   "source": [
    "from quantum_serverless import ServerlessProvider\n",
    "import os\n",
    "\n",
    "serverless = ServerlessProvider(\n",
    "    username=os.environ.get(\"GATEWAY_USER\", \"user\"),\n",
    "    password=os.environ.get(\"GATEWAY_PASSWORD\", \"password123\"),\n",
    "    # token=os.environ.get(\"GATEWAY_TOKEN\", \"<TOKEN>\"), # token can be used instead of user/password combination\n",
    "    host=os.environ.get(\"GATEWAY_HOST\", \"http://localhost:8000\"),\n",
    ")\n",
    "serverless"
   ]
  },
  {
   "cell_type": "code",
   "execution_count": 3,
   "id": "0e88737d-a94c-487a-881c-c884ba0a3099",
   "metadata": {},
   "outputs": [
    {
     "data": {
      "text/plain": [
       "'migrated-pattern'"
      ]
     },
     "execution_count": 3,
     "metadata": {},
     "output_type": "execute_result"
    }
   ],
   "source": [
    "serverless.upload(pattern)"
   ]
  },
  {
   "cell_type": "markdown",
   "id": "31e22bdd-2625-494a-a697-b1e26fcd066a",
   "metadata": {},
   "source": [
    "While Qiskit Runtime programs required users to upload their program and call it in two separate steps, the ``QiskitPattern`` class allows users to send a job for remote execution in a single step."
   ]
  },
  {
   "cell_type": "code",
   "execution_count": 4,
   "id": "9f6eddae-a889-4958-8f0a-7e9f8ec29800",
   "metadata": {},
   "outputs": [
    {
     "data": {
      "text/plain": [
       "<Job | 3b3d1bd1-5aa4-45a5-b2b1-fad46bd2f079>"
      ]
     },
     "execution_count": 4,
     "metadata": {},
     "output_type": "execute_result"
    }
   ],
   "source": [
    "job = serverless.run(\"migrated-pattern\", arguments={\"iterations\": 3})\n",
    "job"
   ]
  },
  {
   "cell_type": "code",
   "execution_count": 5,
   "id": "2223b57b-1dbc-45c7-8fd6-8e2ebfb843aa",
   "metadata": {},
   "outputs": [
    {
     "data": {
      "text/plain": [
       "{'result': 'Hello, World!'}"
      ]
     },
     "execution_count": 5,
     "metadata": {},
     "output_type": "execute_result"
    }
   ],
   "source": [
    "job.result()"
   ]
  },
  {
   "cell_type": "code",
   "execution_count": 6,
   "id": "314e7716-8495-41e0-92dc-b2404ec860d4",
   "metadata": {},
   "outputs": [
    {
     "name": "stdout",
     "output_type": "stream",
     "text": [
      "OpenBLAS WARNING - could not determine the L2 cache size on this system, assuming 256k\n",
      "OpenBLAS WARNING - could not determine the L2 cache size on this system, assuming 256k\n",
      "{'iteration': 0, 'dists': [{0: 3.11944954662e-05, 1: 1.7472255688e-06, 2: 0.0023491864962565, 3: 0.0001315795832142, 4: 3.11944954662e-05, 5: 1.7472255688e-06, 6: 0.0023491864962565, 7: 0.0001315795832142, 8: 0.0003717494511414, 9: 2.08219474781e-05, 10: 0.0279956055566758, 11: 0.0015680535014343, 12: 0.0003717494511414, 13: 2.08219474781e-05, 14: 0.0279956055566758, 15: 0.0015680535014343, 16: 0.0311265176657353, 17: 0.0017434180844706, 18: 0.0031482525298452, 19: 0.0001763358321658, 20: 0.0015223386227183, 21: 0.0313475971274875, 22: 0.000153975027715, 23: 0.003170613334296, 24: 0.3709393495626852, 25: 0.0207765731205209, 26: 0.0018349433509674, 27: 0.0377846715963741, 28: 0.0181419362290861, 29: 0.3735739864541202, 30: 0.0375181945574789, 31: 0.0021014203898626}]}\n",
      "{'iteration': 1, 'dists': [{0: 0.0069643522753237, 2: 0.0019338542834274, 4: 0.0069643522753237, 6: 0.0019338542834274, 8: 0.1437387217328721, 10: 0.0399132226125896, 12: 0.1437387217328721, 14: 0.0399132226125896, 16: 0.0111201629603674, 18: 0.0030878355837216, 20: 0.0111201629603673, 22: 0.0030878355837216, 24: 0.2295113667710234, 26: 0.0637304837806736, 28: 0.2295113667710234, 30: 0.0637304837806736}]}\n",
      "{'iteration': 2, 'dists': [{0: 0.1660856424846436, 1: 0.1169352848951222, 3: 0.1169352848951222, 4: 0.0001612756514029, 5: 0.0001135487328183, 7: 0.0001135487328183, 8: 0.0413427186633533, 9: 0.0291080102585333, 11: 0.0291080102585333, 12: 4.01453959743e-05, 13: 2.82650158392e-05, 15: 2.82650158392e-05, 16: 0.1660856424846435, 17: 0.1169352848951222, 19: 0.1169352848951222, 20: 0.0001612756514029, 21: 0.0001135487328183, 23: 0.0001135487328183, 24: 0.0413427186633533, 25: 0.0291080102585333, 27: 0.0291080102585333, 28: 4.01453959743e-05, 29: 2.82650158392e-05, 31: 2.82650158392e-05}]}\n",
      "\n"
     ]
    }
   ],
   "source": [
    "print(job.logs())"
   ]
  }
 ],
 "metadata": {
  "kernelspec": {
   "display_name": "Python 3 (ipykernel)",
   "language": "python",
   "name": "python3"
  },
  "language_info": {
   "codemirror_mode": {
    "name": "ipython",
    "version": 3
   },
   "file_extension": ".py",
   "mimetype": "text/x-python",
   "name": "python",
   "nbconvert_exporter": "python",
   "pygments_lexer": "ipython3",
   "version": "3.9.16"
  }
 },
 "nbformat": 4,
 "nbformat_minor": 5
}
