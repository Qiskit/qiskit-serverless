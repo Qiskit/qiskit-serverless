{
 "cells": [
  {
   "cell_type": "markdown",
   "id": "7d054012-24ae-4249-8263-ba857939e9ca",
   "metadata": {},
   "source": [
    "# Converting from Qiskit Runtime Programs\n",
    "\n",
    "This tutorial will be a demonstation of converting your custom Qiskit Runtime Program into a Quantum Serverless `Program`.\n",
    "\n",
    "If you were using Qiskit Runtime Programs before, your code probably looks similar to the following example:\n",
    "\n",
    "```python\n",
    "\"\"\"A sample runtime program that submits random circuits for user-specified iterations.\"\"\"\n",
    "\n",
    "import random\n",
    "\n",
    "from qiskit import transpile\n",
    "from qiskit.circuit.random import random_circuit\n",
    "\n",
    "\n",
    "def prepare_circuits(backend):\n",
    "    circuit = random_circuit(\n",
    "        num_qubits=5, depth=4, measure=True, seed=random.randint(0, 1000)\n",
    "    )\n",
    "    return transpile(circuit, backend)\n",
    "\n",
    "\n",
    "def main(backend, user_messenger, **kwargs):\n",
    "    \"\"\"Main entry point of the program.\n",
    "\n",
    "    Args:\n",
    "        backend: Backend to submit the circuits to.\n",
    "        user_messenger: Used to communicate with the program consumer.\n",
    "        kwargs: User inputs.\n",
    "    \"\"\"\n",
    "    iterations = kwargs.pop(\"iterations\", 5)\n",
    "    for it in range(iterations):\n",
    "        qc = prepare_circuits(backend)\n",
    "        result = backend.run(qc).result()\n",
    "        user_messenger.publish({\"iteration\": it, \"counts\": result.get_counts()})\n",
    "\n",
    "    return \"Hello, World!\"\n",
    "```\n",
    "\n",
    "\n",
    "All Qiskit Runtime Programs have a `main` method which accepts `backend`, `user_messenger` and `**kwargs`. This method is not required for Quantum Serverless programs.\n",
    "\n",
    "Quantum Serverless handles backends, logging, and input arguments a bit differently than Qiskit Runtime:\n",
    "\n",
    "- `backend`. For Quantum Serverless programs you are not limited to single backend for a program. You can call any\n",
    "  number of backends from single program. Since `Backend.run` is deprecated, we will be using Qiskit Primitives to do our calculation.\n",
    "- `user_messenger` were used in Qiskit Runtime Programs to facilitate retrieving logs from the program. Quantum Serverless does not\n",
    "  require passing such an object. Instead, all contents of `stdout` (e.g. print statements, logging messages) will be provided to the\n",
    "  user via the Quantum Serverless job handler.\n",
    "- `**kwargs` was a variable used to capture program inputs from the user. Users should now input their arguments to the `Program` constructor,\n",
    "  and the arguments should be retrieved within the program using the `get_arguments` function from Quantum Serverless.\n",
    "- To save the results of a program, the `save_result` function should be used. It accepts a python dictionary and can be accessed via the job handler.\n",
    "\n",
    "Let's use the guidelines above to transform the above Qiskit Runtime Program into a Quantum Serverless Program.\n",
    "\n",
    "```python\n",
    "# migrated_program.py\n",
    "\"\"\"A sample runtime program that submits random circuits for user-specified iterations.\"\"\"\n",
    "\n",
    "import random\n",
    "\n",
    "from qiskit import transpile\n",
    "from qiskit.circuit.random import random_circuit\n",
    "from qiskit.primitives import Sampler\n",
    "\n",
    "from quantum_serverless import get_arguments, save_result\n",
    "\n",
    "\n",
    "def prepare_circuits():\n",
    "    circuit = random_circuit(\n",
    "        num_qubits=5, depth=4, measure=True, seed=random.randint(0, 1000)\n",
    "    )\n",
    "    return transpile(circuit)\n",
    "\n",
    "\n",
    "arguments = get_arguments()\n",
    "iterations = arguments.get(\"iterations\", 5)\n",
    "\n",
    "for it in range(iterations):\n",
    "    qc = prepare_circuits()\n",
    "    result = Sampler.run(qc).result()\n",
    "    print({\"iteration\": it, \"dists\": result.quasi_dists})\n",
    "\n",
    "save_result({\"result\": \"Hello, World!\"})\n",
    "```\n",
    "\n",
    "Let's save this code as `./src/migrated_program.py` and execute it using the `Program` class from the `quantum_serverless` package."
   ]
  },
  {
   "cell_type": "code",
   "execution_count": 4,
   "id": "50fb2a64-751d-40fb-bac8-db49dc92fbca",
   "metadata": {},
   "outputs": [],
   "source": [
    "from quantum_serverless import Program\n",
    "\n",
    "program = Program(\n",
    "    title=\"migrated-program\", entrypoint=\"migrated_program.py\", working_dir=\"./src/\"\n",
    ")"
   ]
  },
  {
   "cell_type": "code",
   "execution_count": 5,
   "id": "162c482e-8f86-4224-a9b9-f6567b34acf4",
   "metadata": {},
   "outputs": [
    {
     "data": {
      "text/plain": [
       "<ServerlessProvider: gateway-provider>"
      ]
     },
     "execution_count": 5,
     "metadata": {},
     "output_type": "execute_result"
    }
   ],
   "source": [
    "from quantum_serverless import ServerlessProvider\n",
    "import os\n",
    "\n",
    "serverless = ServerlessProvider(\n",
    "    username=os.environ.get(\"GATEWAY_USER\", \"user\"),\n",
    "    password=os.environ.get(\"GATEWAY_PASSWORD\", \"password123\"),\n",
    "    # token=os.environ.get(\"GATEWAY_TOKEN\", \"<TOKEN>\"), # token can be used instead of user/password combination\n",
    "    host=os.environ.get(\"GATEWAY_HOST\", \"http://localhost:8000\"),\n",
    ")\n",
    "serverless"
   ]
  },
  {
   "cell_type": "code",
   "execution_count": 6,
   "id": "0e88737d-a94c-487a-881c-c884ba0a3099",
   "metadata": {},
   "outputs": [
    {
     "data": {
      "text/plain": [
       "'migrated-program'"
      ]
     },
     "execution_count": 6,
     "metadata": {},
     "output_type": "execute_result"
    }
   ],
   "source": [
    "serverless.upload(program)"
   ]
  },
  {
   "cell_type": "markdown",
   "id": "31e22bdd-2625-494a-a697-b1e26fcd066a",
   "metadata": {},
   "source": [
    "While Qiskit Runtime programs required users to upload their program and call it in two separate steps, the ``Program`` class allows users to send a job for remote execution in a single step."
   ]
  },
  {
   "cell_type": "code",
   "execution_count": 7,
   "id": "9f6eddae-a889-4958-8f0a-7e9f8ec29800",
   "metadata": {},
   "outputs": [
    {
     "data": {
      "text/plain": [
       "<Job | 901efd9c-7bb1-42e6-ad6a-14e781930f1c>"
      ]
     },
     "execution_count": 7,
     "metadata": {},
     "output_type": "execute_result"
    }
   ],
   "source": [
    "job = serverless.run(\"migrated-program\", arguments={\"iterations\": 3})\n",
    "job"
   ]
  },
  {
   "cell_type": "code",
   "execution_count": 8,
   "id": "2223b57b-1dbc-45c7-8fd6-8e2ebfb843aa",
   "metadata": {},
   "outputs": [
    {
     "data": {
      "text/plain": [
       "{'result': 'Hello, World!'}"
      ]
     },
     "execution_count": 8,
     "metadata": {},
     "output_type": "execute_result"
    }
   ],
   "source": [
    "job.result()"
   ]
  },
  {
   "cell_type": "code",
   "execution_count": 9,
   "id": "314e7716-8495-41e0-92dc-b2404ec860d4",
   "metadata": {},
   "outputs": [
    {
     "name": "stdout",
     "output_type": "stream",
     "text": [
      "OpenBLAS WARNING - could not determine the L2 cache size on this system, assuming 256k\n",
      "OpenBLAS WARNING - could not determine the L2 cache size on this system, assuming 256k\n",
      "{'iteration': 0, 'dists': [{0: 0.0870879477472883, 1: 0.0924709553907342, 4: 0.0870879477472882, 5: 0.0924709553907341, 8: 0.0363341145102879, 9: 0.0341069823516897, 12: 0.0363341145102879, 13: 0.0341069823516897, 16: 0.0870879477472883, 17: 0.0924709553907342, 20: 0.0870879477472882, 21: 0.0924709553907341, 24: 0.0363341145102879, 25: 0.0341069823516897, 28: 0.0363341145102879, 29: 0.0341069823516897}]}\n",
      "{'iteration': 1, 'dists': [{0: 0.1788234278657898, 4: 0.1788234278657898, 8: 0.0410003465204518, 12: 0.0410003465204518, 16: 0.22791926492318, 20: 0.22791926492318, 24: 0.0522569606905783, 28: 0.0522569606905783}]}\n",
      "{'iteration': 2, 'dists': [{0: 0.1850255799964094, 1: 0.100389938487105, 4: 0.139108126852289, 5: 0.0754763546641966, 16: 0.1850255799964094, 17: 0.100389938487105, 20: 0.139108126852289, 21: 0.0754763546641966}]}\n",
      "\n"
     ]
    }
   ],
   "source": [
    "print(job.logs())"
   ]
  }
 ],
 "metadata": {
  "kernelspec": {
   "display_name": "Python 3 (ipykernel)",
   "language": "python",
   "name": "python3"
  },
  "language_info": {
   "codemirror_mode": {
    "name": "ipython",
    "version": 3
   },
   "file_extension": ".py",
   "mimetype": "text/x-python",
   "name": "python",
   "nbconvert_exporter": "python",
   "pygments_lexer": "ipython3",
   "version": "3.9.16"
  }
 },
 "nbformat": 4,
 "nbformat_minor": 5
}
