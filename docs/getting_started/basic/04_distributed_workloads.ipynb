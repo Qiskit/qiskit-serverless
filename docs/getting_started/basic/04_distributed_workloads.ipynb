{
 "cells": [
  {
   "cell_type": "markdown",
   "metadata": {},
   "source": [
    "# Parallel workflows with QiskitFunction\n",
    "\n",
    "In this document, we will learn how to run distributed workflows inside a function. In this case, we will compute the quasi-probability distribution in parallel for a list of quantum circuits.\n",
    "\n",
    "Let's take a look at the function file [./source_files/function_with_parallel_workflow.py](./source_files/function_with_parallel_workflow.py). \n",
    "\n",
    "```python\n",
    "\n",
    "from qiskit_serverless import get_arguments, save_result, distribute_task, get\n",
    "\n",
    "from qiskit import QuantumCircuit\n",
    "from qiskit_ibm_runtime import SamplerV2 as Sampler\n",
    "from qiskit_ibm_runtime.fake_provider import FakeAlmadenV2\n",
    "from qiskit.transpiler.preset_passmanagers import generate_preset_pass_manager\n",
    "\n",
    "# The @distribute_task decorator marks this function to be executed on a remote worker.\n",
    "# It transpiles a circuit for a specific backend, runs it, and returns the results.\n",
    "@distribute_task()\n",
    "def distributed_compile_and_sample(ideal_circuit: QuantumCircuit, shots: int):\n",
    "    \"\"\"\n",
    "    A distributed task that compiles a circuit for a specific backend ISA,\n",
    "    runs it, and returns the measurement counts.\n",
    "    \"\"\"\n",
    "    backend = FakeAlmadenV2()\n",
    "    pm = generate_preset_pass_manager(optimization_level=1, backend=backend)\n",
    "    sampler = Sampler(mode=backend)\n",
    "    isa_circuit=pm.run(ideal_circuit)\n",
    "    pub_result = sampler.run([isa_circuit], shots=shots).result()[0]\n",
    "    return pub_result.data.meas.get_counts()\n",
    "\n",
    "\n",
    "if __name__ == \"__main__\":\n",
    "    # Get input arguments, which include a list of circuits to process.\n",
    "    arguments = get_arguments()\n",
    "    circuits = arguments.get(\"circuits\")\n",
    "    shots = arguments.get(\"shots\", 4096) \n",
    "\n",
    "    # Submit a remote task for each circuit. This returns immediately with references to the tasks.\n",
    "    task_references = [\n",
    "        distributed_compile_and_sample(circuit, shots) for circuit in circuits\n",
    "    ]\n",
    "\n",
    "    # Wait for all the distributed tasks to complete and retrieve their results.\n",
    "    results = get(task_references)\n",
    "    \n",
    "    # Save the final aggregated results.\n",
    "    save_result({\"results\": results})\n",
    "```\n",
    "\n",
    "There are a lot of new concepts introduced in this Qiskit Function, so let's go over them in more detail:\n",
    "\n",
    "The [distribute_task](https://qiskit.github.io/qiskit-serverless/stubs/qiskit_serverless.core.distribute_task.html#qiskit_serverless.core.distribute_task) decorator converts a function into a distributed task. This means that the function will be executed on compute resources asynchronously and in parallel to the main context of the Qiskit Function.\n",
    "\n",
    "When you call a converted function, it will return a reference to the function execution instead of the result. In order to get the result back, you need to call the [get](https://qiskit.github.io/qiskit-serverless/stubs/qiskit_serverless.core.get.html#qiskit_serverless.core.get) function on the function reference. `get` will wait until the function is finished and return the result of the function execution.\n",
    "\n",
    "In the Qiskit Function above, we have applied the `distribute_task` decorator to the `distributed_sample` function. This function takes a `QuantumCircuit` as input and returns the quasi distribution for that circuit.\n",
    "\n",
    "After we have defined the `distributed_sample` function, we read the circuits from the Qiskit Function arguments using the [get_arguments](https://qiskit.github.io/qiskit-serverless/stubs/qiskit_serverless.serializers.get_arguments.html#qiskit_serverless.serializers.get_arguments) function. We then call the `distributed_sample` function for each of the circuits, which creates a reference to each of the function executions.\n",
    "\n",
    "These function executions will run in parallel on compute resources, and we get task references as the return type. We store these task references in the `sample_task_references` list.\n",
    "\n",
    "After we have created the task references for each of the function executions, we need to collect the results from these tasks. We do this by calling the `get` function on the list of task references, which waits until all the tasks have completed and returns the results.\n",
    "\n",
    "Once we have the results, we can save them using the [save_result](https://qiskit.github.io/qiskit-serverless/stubs/qiskit_serverless.core.save_result.html#qiskit_serverless.core.save_result) function.\n",
    "\n",
    "Essentially, this Qiskit Function reads the circuits from the Qiskit Function arguments, executes the `distributed_sample` function on each circuit in parallel, collects the results from the function executions, and saves the results."
   ]
  },
  {
   "cell_type": "markdown",
   "metadata": {},
   "source": [
    "> &#x26A0; This provider is set up with default credentials to a test cluster intended to run on your machine. For information on setting up infrastructure on your local machine, check out the guide on [local infrastructure setup](https://qiskit.github.io/qiskit-serverless/deployment/local.html)."
   ]
  },
  {
   "cell_type": "code",
   "execution_count": 1,
   "metadata": {},
   "outputs": [
    {
     "data": {
      "text/plain": [
       "<gateway-client>"
      ]
     },
     "execution_count": 1,
     "metadata": {},
     "output_type": "execute_result"
    }
   ],
   "source": [
    "from qiskit_serverless import ServerlessClient\n",
    "import os\n",
    "\n",
    "client = ServerlessClient(\n",
    "    token=os.environ.get(\"GATEWAY_TOKEN\", \"awesome_token\"),\n",
    "    host=os.environ.get(\"GATEWAY_HOST\", \"http://localhost:8000\"),\n",
    "    # If you are using the kubernetes approach the URL must be http://localhost\n",
    ")\n",
    "\n",
    "client"
   ]
  },
  {
   "cell_type": "markdown",
   "metadata": {},
   "source": [
    "Let's create a list of random circuits which we will be passed as arguments to the function."
   ]
  },
  {
   "cell_type": "code",
   "execution_count": 2,
   "metadata": {},
   "outputs": [
    {
     "data": {
      "text/plain": [
       "[<qiskit.circuit.quantumcircuit.QuantumCircuit at 0x12a393690>,\n",
       " <qiskit.circuit.quantumcircuit.QuantumCircuit at 0x12a393a10>]"
      ]
     },
     "execution_count": 2,
     "metadata": {},
     "output_type": "execute_result"
    }
   ],
   "source": [
    "from qiskit.circuit.random import random_circuit\n",
    "\n",
    "circuits = [random_circuit(2, 2) for _ in range(2)]\n",
    "[circuit.measure_all() for circuit in circuits]\n",
    "circuits"
   ]
  },
  {
   "cell_type": "markdown",
   "metadata": {},
   "source": [
    "Run the function as usual, but pass the circuits in as a keyword argument, `circuits`."
   ]
  },
  {
   "cell_type": "code",
   "execution_count": 3,
   "metadata": {},
   "outputs": [
    {
     "data": {
      "text/plain": [
       "QiskitFunction(function-with-parallel-workflow)"
      ]
     },
     "execution_count": 3,
     "metadata": {},
     "output_type": "execute_result"
    }
   ],
   "source": [
    "from qiskit_serverless import QiskitFunction\n",
    "\n",
    "function = QiskitFunction(\n",
    "    title=\"function-with-parallel-workflow\",\n",
    "    entrypoint=\"function_with_parallel_workflow.py\",\n",
    "    working_dir=\"./source_files/\",\n",
    ")\n",
    "\n",
    "client.upload(function)"
   ]
  },
  {
   "cell_type": "code",
   "execution_count": 4,
   "metadata": {},
   "outputs": [
    {
     "data": {
      "text/plain": [
       "<Job | 84b572a4-8520-4397-b4d1-dc4acd776604>"
      ]
     },
     "execution_count": 4,
     "metadata": {},
     "output_type": "execute_result"
    }
   ],
   "source": [
    "parallel_function = client.get(\"function-with-parallel-workflow\")\n",
    "job = parallel_function.run(circuits=circuits)\n",
    "job"
   ]
  },
  {
   "cell_type": "code",
   "execution_count": 5,
   "metadata": {},
   "outputs": [
    {
     "data": {
      "text/plain": [
       "'QUEUED'"
      ]
     },
     "execution_count": 5,
     "metadata": {},
     "output_type": "execute_result"
    }
   ],
   "source": [
    "job.status()"
   ]
  },
  {
   "cell_type": "code",
   "execution_count": 6,
   "metadata": {},
   "outputs": [
    {
     "data": {
      "text/plain": [
       "{'results': [{'00': 3983, '10': 113}, {'00': 4096}]}"
      ]
     },
     "execution_count": 6,
     "metadata": {},
     "output_type": "execute_result"
    }
   ],
   "source": [
    "job.result()"
   ]
  }
 ],
 "metadata": {
  "kernelspec": {
   "display_name": "base",
   "language": "python",
   "name": "python3"
  },
  "language_info": {
   "codemirror_mode": {
    "name": "ipython",
    "version": 3
   },
   "file_extension": ".py",
   "mimetype": "text/x-python",
   "name": "python",
   "nbconvert_exporter": "python",
   "pygments_lexer": "ipython3",
   "version": "3.13.2"
  }
 },
 "nbformat": 4,
 "nbformat_minor": 4
}
