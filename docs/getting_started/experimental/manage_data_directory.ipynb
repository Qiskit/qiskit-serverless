{
 "cells": [
  {
   "cell_type": "markdown",
   "id": "412699e8-ba4b-4051-977e-30be868e1b0a",
   "metadata": {},
   "source": [
    "# Shared data directory (Experimental)\n",
    "\n",
    "In this tutorial we will describe a shared directory `data`. Qiskit Functions can produce and consume files in the `data` directory.\n",
    "\n",
    "`QiskitServerless` has `file_download`, `file_upload`, `file_delete` and `files` functions that provide file upload, file download, file delete and list files.\n",
    "\n",
    "Limitations:\n",
    "\n",
    "- files should be saved in `/data` directory during your function execution to be visible by `.files()` method call.\n",
    "- only `/data` directory is supported, `/data/other_folder` will not be visible.\n",
    "- as a provider you have access to `/function-data`, it works in a similar way as the `/data` folder with the distinction that users don't have access to it. Only the providers of the specific functions can see files under that path.\n",
    "- Qiskit Functions created by you and Qiskit Functions created by others don't share directories.\n",
    "\n",
    "> &#x26A0; This provider is set up with default credentials to a test cluster intended to run on your machine. For information on setting up infrastructure on your local machine, check out the guide on [local infrastructure setup](https://qiskit.github.io/qiskit-serverless/deployment/local.html)."
   ]
  },
  {
   "cell_type": "code",
   "execution_count": 2,
   "id": "429d8e73-aa75-47ca-9dcd-ed3b33a2cdf8",
   "metadata": {},
   "outputs": [
    {
     "data": {
      "text/plain": [
       "<gateway-client>"
      ]
     },
     "execution_count": 2,
     "metadata": {},
     "output_type": "execute_result"
    }
   ],
   "source": [
    "import os\n",
    "from qiskit_serverless import ServerlessClient, QiskitFunction\n",
    "\n",
    "serverless = ServerlessClient(\n",
    "    token=os.environ.get(\"GATEWAY_TOKEN\", \"awesome_token\"),\n",
    "    host=os.environ.get(\"GATEWAY_HOST\", \"http://localhost\"),\n",
    "    # If you are using the kubernetes approach the URL must be http://localhost\n",
    ")\n",
    "serverless"
   ]
  },
  {
   "cell_type": "code",
   "execution_count": 3,
   "id": "87622133",
   "metadata": {},
   "outputs": [
    {
     "data": {
      "text/plain": [
       "QiskitFunction(file-producer)"
      ]
     },
     "execution_count": 3,
     "metadata": {},
     "output_type": "execute_result"
    }
   ],
   "source": [
    "producer_function = QiskitFunction(\n",
    "    title=\"file-producer\", entrypoint=\"produce_files.py\", working_dir=\"./source_files/\"\n",
    ")\n",
    "\n",
    "serverless.upload(producer_function)"
   ]
  },
  {
   "cell_type": "code",
   "execution_count": 4,
   "id": "c26a3422",
   "metadata": {},
   "outputs": [
    {
     "data": {
      "text/plain": [
       "QiskitFunction(file-producer)"
      ]
     },
     "execution_count": 4,
     "metadata": {},
     "output_type": "execute_result"
    }
   ],
   "source": [
    "producer_function = serverless.get(\"file-producer\")\n",
    "producer_function"
   ]
  },
  {
   "cell_type": "markdown",
   "id": "bc286ee3-2b3b-47ca-a60e-b4db8a57ee06",
   "metadata": {},
   "source": [
    "Upload a file in the `data` directory"
   ]
  },
  {
   "cell_type": "code",
   "execution_count": 5,
   "id": "4f35187e-952e-4f2b-8871-1c971e28a739",
   "metadata": {},
   "outputs": [],
   "source": [
    "import tarfile\n",
    "\n",
    "filename= \"uploaded_file.tar\"\n",
    "file= tarfile.open(filename,\"w\")\n",
    "file.add(\"manage_data_directory.ipynb\")\n",
    "file.close() "
   ]
  },
  {
   "cell_type": "code",
   "execution_count": 6,
   "id": "71d0cd3f-95fd-42ed-ab77-c363433e4172",
   "metadata": {},
   "outputs": [
    {
     "data": {
      "text/plain": [
       "'{\"message\":\"/usr/src/app/media/mockuser/uploaded_file.tar\"}'"
      ]
     },
     "execution_count": 6,
     "metadata": {},
     "output_type": "execute_result"
    }
   ],
   "source": [
    "serverless.file_upload(filename, producer_function)"
   ]
  },
  {
   "cell_type": "markdown",
   "id": "3266eb64-a211-4bdc-bae6-700ab58b5a6c",
   "metadata": {},
   "source": [
    "Produce a file in the `data`directory"
   ]
  },
  {
   "cell_type": "code",
   "execution_count": 7,
   "id": "d0009872-7da2-45c9-8bd6-d42be9da67a9",
   "metadata": {},
   "outputs": [
    {
     "data": {
      "text/plain": [
       "<Job | 18b9145a-45fc-401a-936a-de28619720de>"
      ]
     },
     "execution_count": 7,
     "metadata": {},
     "output_type": "execute_result"
    }
   ],
   "source": [
    "job = serverless.run(\"file-producer\")\n",
    "job"
   ]
  },
  {
   "cell_type": "code",
   "execution_count": 8,
   "id": "e2e46a7f",
   "metadata": {},
   "outputs": [
    {
     "data": {
      "text/plain": [
       "{'Message': 'my_file.txt archived into my_file.tar'}"
      ]
     },
     "execution_count": 8,
     "metadata": {},
     "output_type": "execute_result"
    }
   ],
   "source": [
    "job.result()"
   ]
  },
  {
   "cell_type": "markdown",
   "id": "ddc854ab-b727-4a81-88a1-d6bc89cce0ba",
   "metadata": {},
   "source": [
    "List files in the `data` directory"
   ]
  },
  {
   "cell_type": "code",
   "execution_count": 9,
   "id": "81ca879c-352f-41ae-a97a-5eb08b4b2c19",
   "metadata": {},
   "outputs": [
    {
     "data": {
      "text/plain": [
       "['uploaded_file.tar', 'my_file.tar']"
      ]
     },
     "execution_count": 9,
     "metadata": {},
     "output_type": "execute_result"
    }
   ],
   "source": [
    "serverless.files(producer_function)"
   ]
  },
  {
   "cell_type": "markdown",
   "id": "e47905b1-8fc6-4d22-8916-4724fa854ae2",
   "metadata": {},
   "source": [
    "Consume the file procuded by `file-producer` Qiskit Function"
   ]
  },
  {
   "cell_type": "code",
   "execution_count": 10,
   "id": "0741ca7e",
   "metadata": {},
   "outputs": [
    {
     "data": {
      "text/plain": [
       "QiskitFunction(file-consumer)"
      ]
     },
     "execution_count": 10,
     "metadata": {},
     "output_type": "execute_result"
    }
   ],
   "source": [
    "consumer_function = QiskitFunction(\n",
    "    title=\"file-consumer\", entrypoint=\"consume_files.py\", working_dir=\"./source_files/\"\n",
    ")\n",
    "serverless.upload(consumer_function)"
   ]
  },
  {
   "cell_type": "code",
   "execution_count": 11,
   "id": "05286e6d",
   "metadata": {},
   "outputs": [
    {
     "data": {
      "text/plain": [
       "QiskitFunction(file-consumer)"
      ]
     },
     "execution_count": 11,
     "metadata": {},
     "output_type": "execute_result"
    }
   ],
   "source": [
    "consumer_function = serverless.get(\"file-consumer\")\n",
    "consumer_function"
   ]
  },
  {
   "cell_type": "code",
   "execution_count": 12,
   "id": "06c345d7-b7dd-49b4-8c67-e8158acdcf33",
   "metadata": {},
   "outputs": [
    {
     "data": {
      "text/plain": [
       "<Job | 4d9dc660-97db-4e92-a578-42f2ea38ae0e>"
      ]
     },
     "execution_count": 12,
     "metadata": {},
     "output_type": "execute_result"
    }
   ],
   "source": [
    "job = consumer_function.run()\n",
    "job"
   ]
  },
  {
   "cell_type": "code",
   "execution_count": 13,
   "id": "0fff1967",
   "metadata": {},
   "outputs": [
    {
     "data": {
      "text/plain": [
       "{'Message': \"b'Hello!'\"}"
      ]
     },
     "execution_count": 13,
     "metadata": {},
     "output_type": "execute_result"
    }
   ],
   "source": [
    "job.result()"
   ]
  },
  {
   "cell_type": "markdown",
   "id": "3946e3d8-76f2-470c-be23-08e917606ef4",
   "metadata": {},
   "source": [
    "List files"
   ]
  },
  {
   "cell_type": "code",
   "execution_count": 14,
   "id": "da35c2cd-8b26-4d36-83f3-02fda396d56d",
   "metadata": {},
   "outputs": [
    {
     "data": {
      "text/plain": [
       "['uploaded_file.tar', 'my_file.tar']"
      ]
     },
     "execution_count": 14,
     "metadata": {},
     "output_type": "execute_result"
    }
   ],
   "source": [
    "serverless.files(consumer_function)"
   ]
  },
  {
   "cell_type": "markdown",
   "id": "7099a7fc-72ef-4c55-8ee2-b02a0a7d8ec4",
   "metadata": {},
   "source": [
    "Delete files"
   ]
  },
  {
   "cell_type": "code",
   "execution_count": 15,
   "id": "c826ed42-9ca6-44f4-83c3-20b2f28c09fc",
   "metadata": {},
   "outputs": [
    {
     "data": {
      "text/plain": [
       "'Requested file was deleted.'"
      ]
     },
     "execution_count": 15,
     "metadata": {},
     "output_type": "execute_result"
    }
   ],
   "source": [
    "serverless.file_delete(filename, consumer_function)"
   ]
  },
  {
   "cell_type": "code",
   "execution_count": 16,
   "id": "cd6a3009-80bf-4c70-a731-63c5d58bfa6a",
   "metadata": {},
   "outputs": [
    {
     "data": {
      "text/plain": [
       "['my_file.tar']"
      ]
     },
     "execution_count": 16,
     "metadata": {},
     "output_type": "execute_result"
    }
   ],
   "source": [
    "serverless.files(consumer_function)"
   ]
  }
 ],
 "metadata": {
  "kernelspec": {
   "display_name": ".venv",
   "language": "python",
   "name": "python3"
  },
  "language_info": {
   "codemirror_mode": {
    "name": "ipython",
    "version": 3
   },
   "file_extension": ".py",
   "mimetype": "text/x-python",
   "name": "python",
   "nbconvert_exporter": "python",
   "pygments_lexer": "ipython3",
   "version": "3.11.9"
  }
 },
 "nbformat": 4,
 "nbformat_minor": 5
}
