{
 "cells": [
  {
   "cell_type": "markdown",
   "metadata": {
    "tags": []
   },
   "source": [
    "# Dependency management for programs\n",
    "\n",
    "In this document, we will learn how to install custom dependencies to your program.\n",
    "\n",
    "Let's create another file with our new program [./source_files/program_4.py](./source_files/program_4.py). \n",
    "\n",
    "For the sake of this example, let's use the `qiskit-experiments` package as our custom dependency. We will use randomized benchmarking (RB) circuits from `qiskit-experiments`, composed with the circuit from the input arguments for measurement.\n",
    "\n",
    "Here's what the file would look like:\n",
    "\n",
    "```python\n",
    "# source_files/program_4.py\n",
    "\n",
    "from quantum_serverless import get_arguments, save_result\n",
    "\n",
    "from qiskit.primitives import Sampler\n",
    "from qiskit_experiments.library import StandardRB\n",
    "\n",
    "\n",
    "arguments = get_arguments()\n",
    "\n",
    "circuit = arguments.get(\"circuit\")\n",
    "\n",
    "rb = StandardRB(\n",
    "    physical_qubits=(1,),\n",
    "    lengths=list(range(1, 300, 30)),\n",
    "    seed=42\n",
    ")\n",
    "composed = circuit.compose(rb.circuits()[0])\n",
    "\n",
    "sampler = Sampler()\n",
    "\n",
    "quasi_dists = sampler.run(composed).result().quasi_dists\n",
    "\n",
    "print(f\"Quasi distribution: {quasi_dists[0]}\")\n",
    "\n",
    "# saving results of a program\n",
    "save_result({\n",
    "    \"quasi_dists\": quasi_dists[0]\n",
    "})\n",
    "\n",
    "```\n",
    "\n",
    "As you can see, we've imported our custom dependency, `qiskit-experiments`, and used its `StandardRB` module to generate an RB circuit, which we've composed with the circuit provided in the input arguments.\n",
    "\n",
    "Now, let's create and configure our client"
   ]
  },
  {
   "cell_type": "markdown",
   "metadata": {},
   "source": [
    "To install a custom dependency that our program might use we need to pass it as the `dependencies` argument to the `Program` class constructor. \n",
    "You can pass multiple dependencies and specify versions. "
   ]
  },
  {
   "cell_type": "code",
   "execution_count": null,
   "metadata": {
    "tags": []
   },
   "outputs": [],
   "source": [
    "from quantum_serverless import Program\n",
    "\n",
    "program = Program(\n",
    "    title=\"Program with dependencies\",\n",
    "    entrypoint=\"program_4.py\",\n",
    "    working_dir=\"./source_files/\",\n",
    "    dependencies=[\"qiskit-experiments==0.5.2\"]\n",
    ")"
   ]
  },
  {
   "cell_type": "code",
   "execution_count": null,
   "metadata": {},
   "outputs": [],
   "source": [
    "from quantum_serverless import QuantumServerless, GatewayProvider\n",
    "import os"
   ]
  },
  {
   "cell_type": "code",
   "execution_count": null,
   "metadata": {},
   "outputs": [],
   "source": [
    "provider = GatewayProvider(\n",
    "    username=\"user\",\n",
    "    password=\"password123\",\n",
    "    host=os.environ.get(\"GATEWAY_HOST\", \"http://localhost:8000\"),\n",
    ")\n",
    "\n",
    "serverless = QuantumServerless(provider)\n",
    "serverless"
   ]
  },
  {
   "cell_type": "code",
   "execution_count": null,
   "metadata": {},
   "outputs": [],
   "source": [
    "from qiskit.circuit.random import random_circuit\n",
    "circuit = random_circuit(2, 2)"
   ]
  },
  {
   "cell_type": "code",
   "execution_count": null,
   "metadata": {},
   "outputs": [],
   "source": [
    "job = serverless.run(program, arguments={\"circuit\": circuit})"
   ]
  },
  {
   "cell_type": "code",
   "execution_count": null,
   "metadata": {},
   "outputs": [],
   "source": [
    "job.status()"
   ]
  },
  {
   "cell_type": "code",
   "execution_count": null,
   "metadata": {},
   "outputs": [],
   "source": [
    "print(job.logs())"
   ]
  }
 ],
 "metadata": {
  "kernelspec": {
   "display_name": "Python 3 (ipykernel)",
   "language": "python",
   "name": "python3"
  },
  "language_info": {
   "codemirror_mode": {
    "name": "ipython",
    "version": 3
   },
   "file_extension": ".py",
   "mimetype": "text/x-python",
   "name": "python",
   "nbconvert_exporter": "python",
   "pygments_lexer": "ipython3",
   "version": "3.8.16"
  }
 },
 "nbformat": 4,
 "nbformat_minor": 4
}
