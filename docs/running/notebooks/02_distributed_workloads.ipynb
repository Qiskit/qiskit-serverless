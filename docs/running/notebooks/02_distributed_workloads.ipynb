{
 "cells": [
  {
   "cell_type": "markdown",
   "metadata": {},
   "source": [
    "# Parallel workflows in programs\n",
    "\n",
    "In this document, we will learn how to run distributed workflows inside a program.\n",
    "\n",
    "Let's take a look at the program file [./source_files/program_4.py](./source_files/program_4.py). \n",
    "\n",
    "```python\n",
    "# source_files/program_4.py\n",
    "\n",
    "from quantum_serverless import get_arguments, save_result, distribute_task, get\n",
    "\n",
    "from qiskit import QuantumCircuit\n",
    "from qiskit.primitives import Sampler\n",
    "\n",
    "\n",
    "@distribute_task()\n",
    "def distributed_sample(circuit: QuantumCircuit):\n",
    "    \"\"\"Distributed task that returns quasi distribution for given circuit.\"\"\"\n",
    "    return Sampler().run(circuit).result().quasi_dists[0]\n",
    "\n",
    "\n",
    "arguments = get_arguments()\n",
    "circuits = arguments.get(\"circuits\")\n",
    "\n",
    "\n",
    "# run distributed tasks as async function\n",
    "# we get task references as a return type\n",
    "sample_task_references = [\n",
    "    distributed_sample(circuit)\n",
    "    for circuit in circuits\n",
    "]\n",
    "\n",
    "# now we need to collect results from task references\n",
    "results = get(sample_task_references)\n",
    "\n",
    "save_result({\n",
    "    \"results\": results\n",
    "})\n",
    "```\n",
    "\n",
    "There are a lot of new concepts introduced in this program, so let's go over them in more detail:\n",
    "\n",
    "The `distribute_task` decorator converts a function into a distributed task. This means that the function will be executed on compute resources asynchronously and in parallel to the main context of the program.\n",
    "\n",
    "When you call a converted function, it will return a reference to the function execution instead of the result. In order to get the result back, you need to call the get function on the function reference. get will wait until the function is finished and return the result of the function execution.\n",
    "\n",
    "In the program above, we have applied the `distribute_task` decorator to the `distributed_sample` function. This function takes a `QuantumCircuit` as input and returns the quasi distribution for that circuit.\n",
    "\n",
    "After we have defined the `distributed_sample` function, we read the circuits from the program arguments using the `get_arguments` function. We then call the distributed_sample function for each of the circuits, which creates a reference to each of the function executions.\n",
    "\n",
    "These function executions will run in parallel on compute resources, and we get task references as the return type. We store these task references in the `sample_task_references` list.\n",
    "\n",
    "After we have created the task references for each of the function executions, we need to collect the results from these tasks. We do this by calling the `get` function on the list of task references, which waits until all the tasks have completed and returns the results.\n",
    "\n",
    "Once we have the results, we can save them using the `save_result` function.\n",
    "\n",
    "Essentially, this program reads the circuits from the program arguments, executes the distributed_sample function on each circuit in parallel, collects the results from the function executions, and saves the results."
   ]
  },
  {
   "cell_type": "code",
   "execution_count": 1,
   "metadata": {
    "collapsed": false,
    "jupyter": {
     "outputs_hidden": false
    }
   },
   "outputs": [],
   "source": [
    "from quantum_serverless import QuantumServerless, GatewayProvider\n",
    "import os"
   ]
  },
  {
   "cell_type": "code",
   "execution_count": 2,
   "metadata": {},
   "outputs": [
    {
     "data": {
      "text/plain": [
       "<QuantumServerless | providers [gateway-provider]>"
      ]
     },
     "execution_count": 2,
     "metadata": {},
     "output_type": "execute_result"
    }
   ],
   "source": [
    "provider = GatewayProvider(\n",
    "    username=\"user\",\n",
    "    password=\"password123\",\n",
    "    host=os.environ.get(\"GATEWAY_HOST\", \"http://localhost:8000\"),\n",
    ")\n",
    "\n",
    "serverless = QuantumServerless(provider)\n",
    "serverless"
   ]
  },
  {
   "cell_type": "markdown",
   "metadata": {},
   "source": [
    "Let's create list of random circuit which we will be using as arguments"
   ]
  },
  {
   "cell_type": "code",
   "execution_count": 3,
   "metadata": {},
   "outputs": [
    {
     "data": {
      "text/plain": [
       "[<qiskit.circuit.quantumcircuit.QuantumCircuit at 0x7fbfa85664d0>,\n",
       " <qiskit.circuit.quantumcircuit.QuantumCircuit at 0x7fbf794c6450>,\n",
       " <qiskit.circuit.quantumcircuit.QuantumCircuit at 0x7fbfa9781390>]"
      ]
     },
     "execution_count": 3,
     "metadata": {},
     "output_type": "execute_result"
    }
   ],
   "source": [
    "from qiskit.circuit.random import random_circuit\n",
    "\n",
    "circuits = [random_circuit(2, 2) for _ in range(3)]\n",
    "[circuit.measure_all() for circuit in circuits]\n",
    "circuits"
   ]
  },
  {
   "cell_type": "markdown",
   "metadata": {},
   "source": [
    "Run program as usual"
   ]
  },
  {
   "cell_type": "code",
   "execution_count": 4,
   "metadata": {},
   "outputs": [
    {
     "data": {
      "text/plain": [
       "<Job | 1d472ab5-6cf6-47c4-8166-8162e043c4bd>"
      ]
     },
     "execution_count": 4,
     "metadata": {},
     "output_type": "execute_result"
    }
   ],
   "source": [
    "from quantum_serverless import Program\n",
    "\n",
    "program = Program(\n",
    "    title=\"Program with distributed workflow\",\n",
    "    entrypoint=\"program_4.py\",\n",
    "    working_dir=\"./source_files/\"\n",
    ")\n",
    "\n",
    "job = serverless.run(program, arguments={\"circuits\": circuits})\n",
    "job"
   ]
  },
  {
   "cell_type": "code",
   "execution_count": 6,
   "metadata": {},
   "outputs": [
    {
     "data": {
      "text/plain": [
       "'SUCCEEDED'"
      ]
     },
     "execution_count": 6,
     "metadata": {},
     "output_type": "execute_result"
    }
   ],
   "source": [
    "job.status()"
   ]
  },
  {
   "cell_type": "code",
   "execution_count": 7,
   "metadata": {},
   "outputs": [
    {
     "data": {
      "text/plain": [
       "{'results': [{'0': 0.25, '1': 0.25, '2': 0.25, '3': 0.25},\n",
       "  {'0': 0.4931987115505575,\n",
       "   '1': 0.4931987115505575,\n",
       "   '2': 0.0068012884494424,\n",
       "   '3': 0.0068012884494424},\n",
       "  {'0': 1.0}]}"
      ]
     },
     "execution_count": 7,
     "metadata": {},
     "output_type": "execute_result"
    }
   ],
   "source": [
    "job.result()"
   ]
  }
 ],
 "metadata": {
  "kernelspec": {
   "display_name": "Python 3 (ipykernel)",
   "language": "python",
   "name": "python3"
  },
  "language_info": {
   "codemirror_mode": {
    "name": "ipython",
    "version": 3
   },
   "file_extension": ".py",
   "mimetype": "text/x-python",
   "name": "python",
   "nbconvert_exporter": "python",
   "pygments_lexer": "ipython3",
   "version": "3.7.13"
  }
 },
 "nbformat": 4,
 "nbformat_minor": 4
}
