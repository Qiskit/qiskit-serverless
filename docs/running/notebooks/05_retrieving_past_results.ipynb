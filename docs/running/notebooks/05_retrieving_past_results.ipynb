{
 "cells": [
  {
   "cell_type": "markdown",
   "id": "66030e20-b384-4dcf-9c5f-7664f7ad1693",
   "metadata": {},
   "source": [
    "# Retrieving Results from Old Jobs\n",
    "\n",
    "In this tutorial, we will run two programs and then retrieve the results of each program using the job IDs and the serverless client."
   ]
  },
  {
   "cell_type": "code",
   "execution_count": null,
   "id": "81dd7807-7180-4b87-bbf9-832b7cf29d69",
   "metadata": {},
   "outputs": [],
   "source": [
    "from quantum_serverless import QuantumServerless, GatewayProvider\n",
    "import os"
   ]
  },
  {
   "cell_type": "markdown",
   "id": "37322958-a029-46bb-bc46-82b7ded329b5",
   "metadata": {},
   "source": [
    "First, create ``GatewayProvider`` and ``QuantumServerless`` instances."
   ]
  },
  {
   "cell_type": "code",
   "execution_count": null,
   "id": "acdec789-4967-48ee-8f6c-8d2b0ff57e91",
   "metadata": {},
   "outputs": [],
   "source": [
    "provider = GatewayProvider(\n",
    "    username=\"user\",\n",
    "    password=\"password123\",\n",
    "    host=os.environ.get(\"GATEWAY_HOST\", \"http://localhost:8000\"),\n",
    ")\n",
    "\n",
    "serverless = QuantumServerless(provider)"
   ]
  },
  {
   "cell_type": "markdown",
   "id": "e076c12a-b372-4335-bd4a-7e3e24fcca73",
   "metadata": {},
   "source": [
    "Run two programs in parallel."
   ]
  },
  {
   "cell_type": "code",
   "execution_count": null,
   "id": "d51df836-3f22-467c-b637-5803145d5d8a",
   "metadata": {},
   "outputs": [],
   "source": [
    "from quantum_serverless import Program\n",
    "\n",
    "program1 = Program(\n",
    "    title=\"Program 1\",\n",
    "    entrypoint=\"program_1.py\",\n",
    "    working_dir=\"./source_files/\"\n",
    ")\n",
    "program2 = Program(\n",
    "    title=\"Program 2\",\n",
    "    entrypoint=\"program_2.py\",\n",
    "    working_dir=\"./source_files/\"\n",
    ")\n",
    "\n",
    "job1 = serverless.run(program1)\n",
    "job2 = serverless.run(program2)"
   ]
  },
  {
   "cell_type": "markdown",
   "id": "59a49dc9-cbad-4c05-a831-b0e9dc882ca0",
   "metadata": {},
   "source": [
    "Retrieve the job IDs for each of the running programs."
   ]
  },
  {
   "cell_type": "code",
   "execution_count": null,
   "id": "f621f786-6ba7-4ef1-8121-741f21f70233",
   "metadata": {},
   "outputs": [],
   "source": [
    "job_id1 = job1.job_id\n",
    "job_id2 = job2.job_id"
   ]
  },
  {
   "cell_type": "markdown",
   "id": "675f9b7a-7d44-43e3-baea-0289cf29e573",
   "metadata": {},
   "source": [
    "Call the blocking comand, ``Job.result()``, to ensure the results are ready in the following cells."
   ]
  },
  {
   "cell_type": "code",
   "execution_count": null,
   "id": "cc7ccea6-bbae-4184-ba7f-67b6c20a0b0b",
   "metadata": {},
   "outputs": [],
   "source": [
    "job1.result()\n",
    "job2.result()"
   ]
  },
  {
   "cell_type": "markdown",
   "id": "d0bd294e-af9e-4817-a58d-84125e104c7f",
   "metadata": {},
   "source": [
    "Retrieve the completed jobs through the serverless client, using the job IDs."
   ]
  },
  {
   "cell_type": "code",
   "execution_count": null,
   "id": "1dc78690-f61a-4dfe-bc0e-7007cf561a5b",
   "metadata": {},
   "outputs": [],
   "source": [
    "retrieved_job1 = serverless.get_job_by_id(job_id1)\n",
    "retrieved_job2 = serverless.get_job_by_id(job_id2)"
   ]
  },
  {
   "cell_type": "markdown",
   "id": "a02841bd-ca61-4b01-a726-c3ddb5469ef8",
   "metadata": {},
   "source": [
    "Inspect the results of the retrieved jobs."
   ]
  },
  {
   "cell_type": "code",
   "execution_count": null,
   "id": "ca1cbfee-df32-4306-988f-ef0fa31605ee",
   "metadata": {},
   "outputs": [],
   "source": [
    "print(f\"Job 1 results: {retrieved_job1.result()}\")\n",
    "print(f\"Job 2 results: {retrieved_job2.result()}\")"
   ]
  },
  {
   "cell_type": "markdown",
   "id": "24942f00-680e-4cea-b0e7-bc75b19565fe",
   "metadata": {},
   "source": [
    "To inspect the logs from a program, access them from the ``Job`` instance."
   ]
  },
  {
   "cell_type": "code",
   "execution_count": null,
   "id": "5e39caf1-1506-44de-9fbc-248e106be6b5",
   "metadata": {},
   "outputs": [],
   "source": [
    "print(f\"Job 1 logs: {retrieved_job1.logs()}\")"
   ]
  }
 ],
 "metadata": {
  "kernelspec": {
   "display_name": "Python 3 (ipykernel)",
   "language": "python",
   "name": "python3"
  },
  "language_info": {
   "codemirror_mode": {
    "name": "ipython",
    "version": 3
   },
   "file_extension": ".py",
   "mimetype": "text/x-python",
   "name": "python",
   "nbconvert_exporter": "python",
   "pygments_lexer": "ipython3",
   "version": "3.8.16"
  }
 },
 "nbformat": 4,
 "nbformat_minor": 5
}
