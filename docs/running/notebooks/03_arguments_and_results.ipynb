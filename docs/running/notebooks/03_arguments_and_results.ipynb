{
 "cells": [
  {
   "cell_type": "markdown",
   "metadata": {},
   "source": [
    "# Programs with arguments\n",
    "\n",
    "In this document, we will learn how to pass arguments to our program.\n",
    "\n",
    "Let's create another file with our program [./source_files/program_3.py](./source_files/program_3.py). \n",
    "\n",
    "Instead of having the circuit defined inside the program (like we did in first example), we will pass it as an argument. We will also save the results, so we can access them later by calling [save_result](https://qiskit-extensions.github.io/quantum-serverless/stubs/quantum_serverless.core.save_result.html#quantum_serverless.core.save_result).\n",
    "\n",
    "Here is the program:\n",
    "\n",
    "```python\n",
    "# source_files/program_3.py\n",
    "\n",
    "from quantum_serverless import get_arguments, save_result\n",
    "\n",
    "from qiskit.primitives import Sampler\n",
    "\n",
    "# get all arguments passed to this program\n",
    "arguments = get_arguments()\n",
    "\n",
    "# get specific argument that we are interested in\n",
    "circuit = arguments.get(\"circuit\")\n",
    "\n",
    "sampler = Sampler()\n",
    "\n",
    "quasi_dists = sampler.run(circuit).result().quasi_dists\n",
    "\n",
    "print(f\"Quasi distribution: {quasi_dists[0]}\")\n",
    "\n",
    "# saving results of a program\n",
    "save_result({\n",
    "    \"quasi_dists\": quasi_dists[0]\n",
    "})\n",
    "```\n",
    "\n",
    "As you can see, the circuit construction is not inside the program anymore. Instead, we parse the arguments by calling the [get_arguments](https://qiskit-extensions.github.io/quantum-serverless/stubs/quantum_serverless.serializers.get_arguments.html#quantum_serverless.serializers.get_arguments) function."
   ]
  },
  {
   "cell_type": "markdown",
   "metadata": {},
   "source": [
    "First, we will create circuit that we want to pass as an argument to the program."
   ]
  },
  {
   "cell_type": "code",
   "execution_count": null,
   "metadata": {},
   "outputs": [],
   "source": [
    "from qiskit import QuantumCircuit\n",
    "\n",
    "circuit = QuantumCircuit(2)\n",
    "circuit.h(0)\n",
    "circuit.cx(0, 1)\n",
    "circuit.measure_all()\n",
    "circuit.draw()"
   ]
  },
  {
   "cell_type": "markdown",
   "metadata": {},
   "source": [
    "Now let's create and configure our client"
   ]
  },
  {
   "cell_type": "code",
   "execution_count": null,
   "metadata": {
    "tags": []
   },
   "outputs": [],
   "source": [
    "from quantum_serverless import Program\n",
    "\n",
    "program = Program(\n",
    "    title=\"Program with arguments\",\n",
    "    entrypoint=\"program_3.py\",\n",
    "    working_dir=\"./source_files/\"\n",
    ")"
   ]
  },
  {
   "cell_type": "code",
   "execution_count": null,
   "metadata": {
    "jupyter": {
     "outputs_hidden": false
    }
   },
   "outputs": [],
   "source": [
    "from quantum_serverless import QuantumServerless, Provider\n",
    "import os"
   ]
  },
  {
   "cell_type": "code",
   "execution_count": null,
   "metadata": {},
   "outputs": [],
   "source": [
    "provider = Provider(\n",
    "    username=\"user\",\n",
    "    password=\"password123\",\n",
    "    host=os.environ.get(\"GATEWAY_HOST\", \"http://localhost:8000\"),\n",
    ")\n",
    "\n",
    "serverless = QuantumServerless(provider)\n",
    "serverless"
   ]
  },
  {
   "cell_type": "markdown",
   "metadata": {},
   "source": [
    "Run the program using the `run` method and by passing an `arguments` parameter in form of a dictionary with the \"circuit\" string as a key and our `QuantumCircuit` as the value"
   ]
  },
  {
   "cell_type": "code",
   "execution_count": null,
   "metadata": {},
   "outputs": [],
   "source": [
    "job = serverless.run(program, arguments={\"circuit\": circuit})"
   ]
  },
  {
   "cell_type": "markdown",
   "metadata": {},
   "source": [
    "Retrieve the results from the client"
   ]
  },
  {
   "cell_type": "code",
   "execution_count": null,
   "metadata": {},
   "outputs": [],
   "source": [
    "job.result()"
   ]
  }
 ],
 "metadata": {
  "kernelspec": {
   "display_name": "Python 3 (ipykernel)",
   "language": "python",
   "name": "python3"
  },
  "language_info": {
   "codemirror_mode": {
    "name": "ipython",
    "version": 3
   },
   "file_extension": ".py",
   "mimetype": "text/x-python",
   "name": "python",
   "nbconvert_exporter": "python",
   "pygments_lexer": "ipython3",
   "version": "3.8.16"
  }
 },
 "nbformat": 4,
 "nbformat_minor": 4
}
