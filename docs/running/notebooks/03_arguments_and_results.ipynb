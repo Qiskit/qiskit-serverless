{
 "cells": [
  {
   "cell_type": "markdown",
   "metadata": {},
   "source": [
    "# Programs with arguments and saved results\n",
    "\n",
    "In this document, we will learn how to pass arguments to our program and save results.\n",
    "\n",
    "Let's create another file with our program [./source_files/program_2.py](./source_files/program_2.py). \n",
    "\n",
    "Instead of having the circuit defined inside the program (like we did in first example), we will pass it as an argument. We will also save the results, so we can access them later by calling `save_result()`.\n",
    "\n",
    "Here is the program:\n",
    "\n",
    "```python\n",
    "# source_files/program_2.py\n",
    "\n",
    "from quantum_serverless import get_arguments, save_result\n",
    "\n",
    "from qiskit.primitives import Sampler\n",
    "\n",
    "# get all arguments passed to this program\n",
    "arguments = get_arguments()\n",
    "\n",
    "# get specific argument that we are interested in\n",
    "circuit = arguments.get(\"circuit\")\n",
    "\n",
    "sampler = Sampler()\n",
    "\n",
    "quasi_dists = sampler.run(circuit).result().quasi_dists\n",
    "\n",
    "print(f\"Quasi distribution: {quasi_dists[0]}\")\n",
    "\n",
    "# saving results of a program\n",
    "save_result({\n",
    "    \"quasi_dists\": quasi_dists[0]\n",
    "})\n",
    "```\n",
    "\n",
    "As you can see, the circuit construction is not inside the program anymore. Instead, we parse the arguments by calling the `get_arguments()` function.\n",
    "\n",
    "Another change is the call to the `save_result()` function, which saves the results of the execution as serialized JSON.\n",
    "\n",
    "Let's create and configure out client"
   ]
  },
  {
   "cell_type": "code",
   "execution_count": 1,
   "metadata": {
    "collapsed": false,
    "jupyter": {
     "outputs_hidden": false
    }
   },
   "outputs": [],
   "source": [
    "from quantum_serverless import QuantumServerless, GatewayProvider\n",
    "import os"
   ]
  },
  {
   "cell_type": "code",
   "execution_count": 2,
   "metadata": {},
   "outputs": [
    {
     "data": {
      "text/plain": [
       "<QuantumServerless | providers [gateway-provider]>"
      ]
     },
     "execution_count": 2,
     "metadata": {},
     "output_type": "execute_result"
    }
   ],
   "source": [
    "provider = GatewayProvider(\n",
    "    username=\"user\",\n",
    "    password=\"password123\",\n",
    "    host=os.environ.get(\"GATEWAY_HOST\", \"http://localhost:8000\"),\n",
    ")\n",
    "\n",
    "serverless = QuantumServerless(provider)\n",
    "serverless"
   ]
  },
  {
   "cell_type": "markdown",
   "metadata": {},
   "source": [
    "Next we will create circuit that we want to pass as an argument to the program."
   ]
  },
  {
   "cell_type": "code",
   "execution_count": 20,
   "metadata": {},
   "outputs": [
    {
     "data": {
      "text/html": [
       "<pre style=\"word-wrap: normal;white-space: pre;background: #fff0;line-height: 1.1;font-family: &quot;Courier New&quot;,Courier,monospace\">        ┌───┐      ░ ┌─┐   \n",
       "   q_0: ┤ H ├──■───░─┤M├───\n",
       "        └───┘┌─┴─┐ ░ └╥┘┌─┐\n",
       "   q_1: ─────┤ X ├─░──╫─┤M├\n",
       "             └───┘ ░  ║ └╥┘\n",
       "meas: 2/══════════════╩══╩═\n",
       "                      0  1 </pre>"
      ],
      "text/plain": [
       "        ┌───┐      ░ ┌─┐   \n",
       "   q_0: ┤ H ├──■───░─┤M├───\n",
       "        └───┘┌─┴─┐ ░ └╥┘┌─┐\n",
       "   q_1: ─────┤ X ├─░──╫─┤M├\n",
       "             └───┘ ░  ║ └╥┘\n",
       "meas: 2/══════════════╩══╩═\n",
       "                      0  1 "
      ]
     },
     "execution_count": 20,
     "metadata": {},
     "output_type": "execute_result"
    }
   ],
   "source": [
    "from qiskit import QuantumCircuit\n",
    "\n",
    "circuit = QuantumCircuit(2)\n",
    "circuit.h(0)\n",
    "circuit.cx(0, 1)\n",
    "circuit.measure_all()\n",
    "circuit.draw()"
   ]
  },
  {
   "cell_type": "markdown",
   "metadata": {},
   "source": [
    "And finally we are creating our program and running it using `run` method and passing `arguments` parameter in form of dictionary with `circuit` key and our circuit as value"
   ]
  },
  {
   "cell_type": "code",
   "execution_count": 21,
   "metadata": {},
   "outputs": [
    {
     "data": {
      "text/plain": [
       "<Job | 4cf769b2-97d4-4aab-ab0e-832be87dfc43>"
      ]
     },
     "execution_count": 21,
     "metadata": {},
     "output_type": "execute_result"
    }
   ],
   "source": [
    "from quantum_serverless import Program\n",
    "\n",
    "program = Program(\n",
    "    title=\"Program with arguments\",\n",
    "    entrypoint=\"program_2.py\",\n",
    "    working_dir=\"./source_files/\"\n",
    ")\n",
    "\n",
    "job = serverless.run(program, arguments={\"circuit\": circuit})\n",
    "job"
   ]
  },
  {
   "cell_type": "code",
   "execution_count": 24,
   "metadata": {},
   "outputs": [
    {
     "data": {
      "text/plain": [
       "{'quasi_dists': {'0': 0.4999999999999999, '3': 0.4999999999999999}}"
      ]
     },
     "execution_count": 24,
     "metadata": {},
     "output_type": "execute_result"
    }
   ],
   "source": [
    "job.result()"
   ]
  }
 ],
 "metadata": {
  "kernelspec": {
   "display_name": "Python 3 (ipykernel)",
   "language": "python",
   "name": "python3"
  },
  "language_info": {
   "codemirror_mode": {
    "name": "ipython",
    "version": 3
   },
   "file_extension": ".py",
   "mimetype": "text/x-python",
   "name": "python",
   "nbconvert_exporter": "python",
   "pygments_lexer": "ipython3",
   "version": "3.7.13"
  }
 },
 "nbformat": 4,
 "nbformat_minor": 4
}
