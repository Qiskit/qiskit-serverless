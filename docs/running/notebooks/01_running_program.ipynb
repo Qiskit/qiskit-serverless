{
 "cells": [
  {
   "cell_type": "markdown",
   "id": "66030e20-b384-4dcf-9c5f-7664f7ad1693",
   "metadata": {},
   "source": [
    "# Running a program remotely\n",
    "\n",
    "In this tutorial, we will write a \"Hello World\" program using Quantum Serverless. The program will be a Qiskit example that prepares a Bell state and prints the measured probability distribution.\n",
    "\n",
    "### Writing the Program\n",
    "\n",
    "First, we need to write the program code and save it to a file called [program_1.py](./source_files/program_1.py). \n",
    "The code for the program is shown below:\n",
    "\n",
    "```python\n",
    "# source_files/program_1.py\n",
    "\n",
    "from qiskit import QuantumCircuit\n",
    "from qiskit.primitives import Sampler\n",
    "\n",
    "circuit = QuantumCircuit(2)\n",
    "circuit.h(0)\n",
    "circuit.cx(0, 1)\n",
    "circuit.measure_all()\n",
    "circuit.draw()\n",
    "\n",
    "sampler = Sampler()\n",
    "\n",
    "quasi_dists = sampler.run(circuit).result().quasi_dists\n",
    "\n",
    "print(f\"Quasi distribution: {quasi_dists[0]}\")\n",
    "```\n",
    "\n",
    "This program creates a two-qubit quantum circuit that prepares a Bell state, measures the result, and prints the measured probability distribution.\n",
    "\n",
    "### Running the Program\n",
    "\n",
    "To run the program, we need to import the necessary classes and configure them. One of these classes is QuantumServerless, which is a client class for interacting with compute resources.\n",
    "\n",
    "QuantumServerless takes a Provider object as a constructor argument. The Provider object stores configuration information about our compute resources, such as where they are located and how to connect to them. In this example, we will use a provider that is connected to a local Docker Compose setup. In this case, it allows us to run the program locally on our machine. If you want to run the program elsewhere, you will need to provide the corresponding host and authentication details."
   ]
  },
  {
   "cell_type": "code",
   "execution_count": 3,
   "id": "81dd7807-7180-4b87-bbf9-832b7cf29d69",
   "metadata": {},
   "outputs": [],
   "source": [
    "from quantum_serverless import QuantumServerless, GatewayProvider\n",
    "import os"
   ]
  },
  {
   "cell_type": "code",
   "execution_count": 5,
   "id": "acdec789-4967-48ee-8f6c-8d2b0ff57e91",
   "metadata": {},
   "outputs": [
    {
     "data": {
      "text/plain": [
       "<QuantumServerless | providers [gateway-provider]>"
      ]
     },
     "execution_count": 5,
     "metadata": {},
     "output_type": "execute_result"
    }
   ],
   "source": [
    "provider = GatewayProvider(\n",
    "    username=\"user\",\n",
    "    password=\"password123\",\n",
    "    host=os.environ.get(\"GATEWAY_HOST\", \"http://localhost:8000\"),\n",
    ")\n",
    "\n",
    "serverless = QuantumServerless(provider)\n",
    "serverless"
   ]
  },
  {
   "cell_type": "markdown",
   "id": "4dd85621-9ab0-4f34-9ab4-07ad773c5e00",
   "metadata": {},
   "source": [
    "After importing the necessary classes and configuring them, we can run the program by calling the `run()` method of the `QuantumServerless` object:\n",
    "\n",
    "`Program` accepts couple of required parameters:\n",
    "- title - name of the program\n",
    "- entrypoint - name of python file you want to execute\n",
    "- working_dir - folder where  your script is located. This is optional parameter and will be current folder by default. "
   ]
  },
  {
   "cell_type": "code",
   "execution_count": 12,
   "id": "d51df836-3f22-467c-b637-5803145d5d8a",
   "metadata": {},
   "outputs": [
    {
     "data": {
      "text/plain": [
       "<Job | 3bbb5ced-06d7-44ff-a08c-58266881d54c>"
      ]
     },
     "execution_count": 12,
     "metadata": {},
     "output_type": "execute_result"
    }
   ],
   "source": [
    "from quantum_serverless import Program\n",
    "\n",
    "program = Program(\n",
    "    title=\"First program\",\n",
    "    entrypoint=\"program_1.py\",\n",
    "    working_dir=\"./source_files/\"\n",
    ")\n",
    "\n",
    "job = serverless.run(program)\n",
    "job"
   ]
  },
  {
   "cell_type": "markdown",
   "id": "39ee31d2-3553-4e19-bcb9-4cccd0df0e4c",
   "metadata": {},
   "source": [
    "As result of `run` call we get `Job` which has `status` method to check status of program execution, `logs` to get logs of execution."
   ]
  },
  {
   "cell_type": "code",
   "execution_count": 15,
   "id": "cc7ccea6-bbae-4184-ba7f-67b6c20a0b0b",
   "metadata": {},
   "outputs": [
    {
     "data": {
      "text/plain": [
       "'SUCCEEDED'"
      ]
     },
     "execution_count": 15,
     "metadata": {},
     "output_type": "execute_result"
    }
   ],
   "source": [
    "job.status()"
   ]
  },
  {
   "cell_type": "code",
   "execution_count": 16,
   "id": "ca76abfa-2ff5-425b-a225-058d91348e8b",
   "metadata": {},
   "outputs": [
    {
     "data": {
      "text/plain": [
       "'Quasi distribution: {0: 0.4999999999999999, 3: 0.4999999999999999}\\n'"
      ]
     },
     "execution_count": 16,
     "metadata": {},
     "output_type": "execute_result"
    }
   ],
   "source": [
    "job.logs()"
   ]
  },
  {
   "cell_type": "markdown",
   "id": "3b1113ef-e8ad-4ed9-b07b-9da2f2b9ea1c",
   "metadata": {},
   "source": [
    "Also this object has `job_id` property that can be used if you want to access job results later.\n",
    "To do so we need to call `get_job_by_id` method of `QuantumServerless` client."
   ]
  },
  {
   "cell_type": "code",
   "execution_count": 17,
   "id": "f942b76d-596c-4384-8f36-e5f73e72cefd",
   "metadata": {},
   "outputs": [
    {
     "data": {
      "text/plain": [
       "'3bbb5ced-06d7-44ff-a08c-58266881d54c'"
      ]
     },
     "execution_count": 17,
     "metadata": {},
     "output_type": "execute_result"
    }
   ],
   "source": [
    "job.job_id"
   ]
  },
  {
   "cell_type": "markdown",
   "id": "a92069ba-0a3c-4c9f-8e8d-3916a2eb2093",
   "metadata": {},
   "source": [
    "Users can fetch previously ran jobs from configured providers."
   ]
  },
  {
   "cell_type": "code",
   "execution_count": 18,
   "id": "45e2927f-655b-47a4-8003-f16e5ba0a1cd",
   "metadata": {},
   "outputs": [
    {
     "data": {
      "text/plain": [
       "<Job | 3bbb5ced-06d7-44ff-a08c-58266881d54c>"
      ]
     },
     "execution_count": 18,
     "metadata": {},
     "output_type": "execute_result"
    }
   ],
   "source": [
    "serverless.get_job_by_id(job.job_id)"
   ]
  },
  {
   "cell_type": "markdown",
   "id": "e14885fd-8b9c-4d61-a192-b19ba400567f",
   "metadata": {},
   "source": [
    "To get a list of previously ran jobs client has `get_jobs` method."
   ]
  },
  {
   "cell_type": "code",
   "execution_count": 21,
   "id": "e9a2c091-dcf9-4b74-9348-e8a76966fc39",
   "metadata": {},
   "outputs": [
    {
     "data": {
      "text/plain": [
       "[<Job | 9ad485a3-9537-4098-8253-bdc7146cd8c9>,\n",
       " <Job | 89a97a04-bf1c-4389-b245-5e6d017b0dd7>,\n",
       " <Job | 722707ff-1bfa-4f51-8cc8-bef96be88f6a>,\n",
       " <Job | 5bee2875-24e5-42c8-964f-9b55e300fd54>,\n",
       " <Job | de5e8dd3-e622-4e3e-9eaf-dd96c93299dd>,\n",
       " <Job | 3bbb5ced-06d7-44ff-a08c-58266881d54c>]"
      ]
     },
     "execution_count": 21,
     "metadata": {},
     "output_type": "execute_result"
    }
   ],
   "source": [
    "serverless.get_jobs()"
   ]
  }
 ],
 "metadata": {
  "kernelspec": {
   "display_name": "Python 3 (ipykernel)",
   "language": "python",
   "name": "python3"
  },
  "language_info": {
   "codemirror_mode": {
    "name": "ipython",
    "version": 3
   },
   "file_extension": ".py",
   "mimetype": "text/x-python",
   "name": "python",
   "nbconvert_exporter": "python",
   "pygments_lexer": "ipython3",
   "version": "3.7.13"
  }
 },
 "nbformat": 4,
 "nbformat_minor": 5
}
