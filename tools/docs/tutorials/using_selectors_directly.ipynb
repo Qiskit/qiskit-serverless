{
 "cells": [
  {
   "cell_type": "markdown",
   "id": "d275d201-f319-4d8a-af0d-4417883f9767",
   "metadata": {},
   "source": [
    "# Using QPU selectors directly"
   ]
  },
  {
   "cell_type": "markdown",
   "id": "94025c96-042e-4f36-a2d2-ddf1b111ec2a",
   "metadata": {},
   "source": [
    "##### First, let's take a glance at all of the backends available to us via Qiskit Runtime. We will ignore all simulators."
   ]
  },
  {
   "cell_type": "code",
   "execution_count": 1,
   "id": "4bc4bbc3-d33c-45cd-9afb-8ec3eca648bb",
   "metadata": {},
   "outputs": [
    {
     "name": "stdout",
     "output_type": "stream",
     "text": [
      "Backend name: ibmq_mumbai     Status: active     Operational: True     Queue size: 531     # qubits: 27\n",
      "Backend name: ibmq_jakarta     Status: active     Operational: True     Queue size: 0     # qubits: 7\n",
      "Backend name: ibm_cusco     Status: active     Operational: True     Queue size: 176     # qubits: 127\n",
      "Backend name: ibm_algiers     Status: active     Operational: True     Queue size: 2     # qubits: 27\n",
      "Backend name: ibmq_manila     Status: active     Operational: True     Queue size: 0     # qubits: 5\n",
      "Backend name: ibm_lagos     Status: dedicated     Operational: True     Queue size: 41     # qubits: 7\n",
      "Backend name: ibm_auckland     Status: active     Operational: True     Queue size: 145     # qubits: 27\n",
      "Backend name: ibm_perth     Status: active     Operational: True     Queue size: 498     # qubits: 7\n",
      "Backend name: ibmq_guadalupe     Status: active     Operational: True     Queue size: 1     # qubits: 16\n",
      "Backend name: ibm_cairo     Status: active     Operational: True     Queue size: 9     # qubits: 27\n",
      "Backend name: ibm_nazca     Status: active     Operational: True     Queue size: 255     # qubits: 127\n",
      "Backend name: ibm_sherbrooke     Status: active     Operational: True     Queue size: 143     # qubits: 127\n",
      "Backend name: ibm_brisbane     Status: active     Operational: True     Queue size: 401     # qubits: 127\n",
      "Backend name: ibm_hanoi     Status: active     Operational: True     Queue size: 1     # qubits: 27\n",
      "Backend name: ibmq_kolkata     Status: active     Operational: True     Queue size: 14     # qubits: 27\n",
      "Backend name: ibm_nairobi     Status: dedicated     Operational: True     Queue size: 44     # qubits: 7\n"
     ]
    }
   ],
   "source": [
    "from qiskit_ibm_runtime import QiskitRuntimeService\n",
    "\n",
    "service = QiskitRuntimeService()\n",
    "\n",
    "for backend in service.backends():\n",
    "    if backend.name.split(\"_\")[0] == \"simulator\" or backend.simulator:\n",
    "        continue\n",
    "    print(\n",
    "        f\"Backend name: {backend.name}    \",\n",
    "        f\"Status: {backend.status().status_msg}    \",\n",
    "        f\"Operational: {backend.status().operational}    \",\n",
    "        f\"Queue size: {backend.status().pending_jobs}    \",\n",
    "        f\"# qubits: {backend.num_qubits}\",\n",
    "    )"
   ]
  },
  {
   "cell_type": "markdown",
   "id": "1ed1d0df-e246-42ac-8f74-fccb690ef569",
   "metadata": {},
   "source": [
    "##### Use `IBMLeastBusyQPUSelector` to select the backend with at least 20 qubits that has the shortest queue."
   ]
  },
  {
   "cell_type": "code",
   "execution_count": 2,
   "id": "019b95f4-c574-4c5b-a5f3-ffd019f9604e",
   "metadata": {},
   "outputs": [
    {
     "data": {
      "text/plain": [
       "<IBMBackend('ibm_hanoi')>"
      ]
     },
     "execution_count": 2,
     "metadata": {},
     "output_type": "execute_result"
    }
   ],
   "source": [
    "from quantum_serverless_tools.selectors import IBMLeastBusyQPUSelector\n",
    "\n",
    "IBMLeastBusyQPUSelector(service).get_backend(min_num_qubits=20)"
   ]
  },
  {
   "cell_type": "markdown",
   "id": "6faad976-7f7c-4f26-af6f-7f4c15e64009",
   "metadata": {},
   "source": [
    "##### Use `IBMLeastNoisyQPUSelector` to select the backend with at least 40 qubits which yields the least-noisy qubit subgraph for a given circuit."
   ]
  },
  {
   "cell_type": "code",
   "execution_count": 3,
   "id": "cfef0a6d-a8d6-4401-8378-34f9c5c32c36",
   "metadata": {},
   "outputs": [
    {
     "data": {
      "text/plain": [
       "<IBMBackend('ibm_cusco')>"
      ]
     },
     "execution_count": 3,
     "metadata": {},
     "output_type": "execute_result"
    }
   ],
   "source": [
    "from qiskit import QuantumCircuit\n",
    "from quantum_serverless_tools.selectors import IBMLeastNoisyQPUSelector\n",
    "\n",
    "qc = QuantumCircuit(40)\n",
    "qc.h(0)\n",
    "for n in range(qc.num_qubits - 1):\n",
    "    qc.cx(n, n + 1)\n",
    "\n",
    "IBMLeastNoisyQPUSelector(service=service, circuit=qc).get_backend(min_num_qubits=40)"
   ]
  }
 ],
 "metadata": {
  "kernelspec": {
   "display_name": "Python 3 (ipykernel)",
   "language": "python",
   "name": "python3"
  },
  "language_info": {
   "codemirror_mode": {
    "name": "ipython",
    "version": 3
   },
   "file_extension": ".py",
   "mimetype": "text/x-python",
   "name": "python",
   "nbconvert_exporter": "python",
   "pygments_lexer": "ipython3",
   "version": "3.10.13"
  }
 },
 "nbformat": 4,
 "nbformat_minor": 5
}
